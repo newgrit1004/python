{
 "cells": [
  {
   "cell_type": "markdown",
   "metadata": {},
   "source": [
    "# How to convert np.array to bytes"
   ]
  },
  {
   "cell_type": "code",
   "execution_count": 1,
   "metadata": {},
   "outputs": [
    {
     "name": "stdout",
     "output_type": "stream",
     "text": [
      "[0.5488135  0.71518937 0.60276338]\n",
      "<class 'numpy.float64'>\n",
      "3\n"
     ]
    }
   ],
   "source": [
    "import numpy as np\n",
    "import binascii\n",
    "\n",
    "np.random.seed(0)\n",
    "\n",
    "data = np.random.rand(3) # make random np.float64 array\n",
    "print(data)\n",
    "print(type(data[0]))\n",
    "print(len(data))"
   ]
  },
  {
   "cell_type": "code",
   "execution_count": 2,
   "metadata": {},
   "outputs": [
    {
     "name": "stdout",
     "output_type": "stream",
     "text": [
      "b'\\xa8\\x12_V\\xe1\\x8f\\xe1?3\\x87`\\xcf\\xd4\\xe2\\xe6?K\\x89nk\\xd6I\\xe3?'\n",
      "<class 'bytes'>\n",
      "24\n",
      "168\n",
      "18\n",
      "<class 'int'>\n"
     ]
    }
   ],
   "source": [
    "bytes_data = data.tobytes() # np.array(np.float64) to bytes\n",
    "print(bytes_data)\n",
    "print(type(bytes_data))\n",
    "print(len(bytes_data))\n",
    "print(bytes_data[0])\n",
    "print(bytes_data[1])\n",
    "print(type(bytes_data[0]))"
   ]
  },
  {
   "cell_type": "code",
   "execution_count": 3,
   "metadata": {},
   "outputs": [
    {
     "data": {
      "text/plain": [
       "[168,\n",
       " 18,\n",
       " 95,\n",
       " 86,\n",
       " 225,\n",
       " 143,\n",
       " 225,\n",
       " 63,\n",
       " 51,\n",
       " 135,\n",
       " 96,\n",
       " 207,\n",
       " 212,\n",
       " 226,\n",
       " 230,\n",
       " 63,\n",
       " 75,\n",
       " 137,\n",
       " 110,\n",
       " 107,\n",
       " 214,\n",
       " 73,\n",
       " 227,\n",
       " 63]"
      ]
     },
     "execution_count": 3,
     "metadata": {},
     "output_type": "execute_result"
    }
   ],
   "source": [
    "[x for x in bytes_data]"
   ]
  },
  {
   "cell_type": "markdown",
   "metadata": {},
   "source": [
    "# How to convert bytes data to hexadecimal string"
   ]
  },
  {
   "cell_type": "code",
   "execution_count": 4,
   "metadata": {},
   "outputs": [
    {
     "name": "stdout",
     "output_type": "stream",
     "text": [
      "a8125f56e18fe13f338760cfd4e2e63f4b896e6bd649e33f\n",
      "<class 'str'>\n"
     ]
    }
   ],
   "source": [
    "hex_str = bytes_data.hex()\n",
    "print(hex_str)\n",
    "print(type(hex_str))"
   ]
  },
  {
   "cell_type": "code",
   "execution_count": 5,
   "metadata": {},
   "outputs": [
    {
     "name": "stdout",
     "output_type": "stream",
     "text": [
      "0xa8125f56e18fe13f338760cfd4e2e63f4b896e6bd649e33f\n"
     ]
    }
   ],
   "source": [
    "hex_str2 = '0x' + hex_str\n",
    "print(hex_str2)"
   ]
  },
  {
   "cell_type": "code",
   "execution_count": 6,
   "metadata": {},
   "outputs": [
    {
     "name": "stdout",
     "output_type": "stream",
     "text": [
      "b'\\xa8\\x12_V\\xe1\\x8f\\xe1?3\\x87`\\xcf\\xd4\\xe2\\xe6?K\\x89nk\\xd6I\\xe3?'\n",
      "b'a8125f56e18fe13f338760cfd4e2e63f4b896e6bd649e33f'\n",
      "<class 'bytes'>\n",
      "a8125f56e18fe13f338760cfd4e2e63f4b896e6bd649e33f\n",
      "<class 'str'>\n"
     ]
    }
   ],
   "source": [
    "print(bytes_data)\n",
    "print(binascii.hexlify(bytes_data))\n",
    "print(type(binascii.hexlify(bytes_data))) #bytes class but data looks like hex_str\n",
    "print(binascii.hexlify(bytes_data).decode(encoding='ascii')) #construct a str from bytes interpreting them like ascii code\n",
    "print(type(binascii.hexlify(bytes_data).decode(encoding='ascii')))"
   ]
  },
  {
   "cell_type": "markdown",
   "metadata": {},
   "source": [
    "# How to convert hexadecimal string to bytes"
   ]
  },
  {
   "cell_type": "code",
   "execution_count": 7,
   "metadata": {},
   "outputs": [
    {
     "data": {
      "text/plain": [
       "bytearray(b'\\xa8\\x12_V\\xe1\\x8f\\xe1?3\\x87`\\xcf\\xd4\\xe2\\xe6?K\\x89nk\\xd6I\\xe3?')"
      ]
     },
     "execution_count": 7,
     "metadata": {},
     "output_type": "execute_result"
    }
   ],
   "source": [
    "#bytearray : return an object of bytes, the bytearray object is mutable\n",
    "bytearray.fromhex(hex_str)"
   ]
  },
  {
   "cell_type": "code",
   "execution_count": 8,
   "metadata": {},
   "outputs": [
    {
     "data": {
      "text/plain": [
       "b'\\xa8\\x12_V\\xe1\\x8f\\xe1?3\\x87`\\xcf\\xd4\\xe2\\xe6?K\\x89nk\\xd6I\\xe3?'"
      ]
     },
     "execution_count": 8,
     "metadata": {},
     "output_type": "execute_result"
    }
   ],
   "source": [
    "#bytes : return bytes of object, the bytes object is immutable\n",
    "bytes.fromhex(hex_str)"
   ]
  },
  {
   "cell_type": "code",
   "execution_count": 9,
   "metadata": {},
   "outputs": [
    {
     "data": {
      "text/plain": [
       "b'\\xa8\\x12_V\\xe1\\x8f\\xe1?3\\x87`\\xcf\\xd4\\xe2\\xe6?K\\x89nk\\xd6I\\xe3?'"
      ]
     },
     "execution_count": 9,
     "metadata": {},
     "output_type": "execute_result"
    }
   ],
   "source": [
    "binascii.unhexlify(hex_str)"
   ]
  },
  {
   "cell_type": "code",
   "execution_count": 10,
   "metadata": {},
   "outputs": [
    {
     "data": {
      "text/plain": [
       "bytearray(b'\\xa8\\x12_V\\xe1\\x8f\\xe1?3\\x87`\\xcf\\xd4\\xe2\\xe6?K\\x89nk\\xd6I\\xe3?')"
      ]
     },
     "execution_count": 10,
     "metadata": {},
     "output_type": "execute_result"
    }
   ],
   "source": [
    "bytearray.fromhex(binascii.hexlify(bytes_data).decode(encoding='ascii'))"
   ]
  },
  {
   "cell_type": "code",
   "execution_count": 11,
   "metadata": {},
   "outputs": [
    {
     "data": {
      "text/plain": [
       "b'\\xa8\\x12_V\\xe1\\x8f\\xe1?3\\x87`\\xcf\\xd4\\xe2\\xe6?K\\x89nk\\xd6I\\xe3?'"
      ]
     },
     "execution_count": 11,
     "metadata": {},
     "output_type": "execute_result"
    }
   ],
   "source": [
    "bytes.fromhex(binascii.hexlify(bytes_data).decode(encoding='ascii'))"
   ]
  },
  {
   "cell_type": "markdown",
   "metadata": {},
   "source": [
    "# How to convert bytes to np.array"
   ]
  },
  {
   "cell_type": "code",
   "execution_count": 12,
   "metadata": {},
   "outputs": [
    {
     "name": "stdout",
     "output_type": "stream",
     "text": [
      "<class 'bytes'>\n",
      "[0.5488135  0.71518937 0.60276338]\n"
     ]
    }
   ],
   "source": [
    "print(type(bytes_data))\n",
    "recon_data = np.frombuffer(bytes_data, np.float64)\n",
    "print(recon_data)"
   ]
  },
  {
   "cell_type": "code",
   "execution_count": 13,
   "metadata": {},
   "outputs": [
    {
     "name": "stdout",
     "output_type": "stream",
     "text": [
      "[0.5488135  0.71518937 0.60276338]\n"
     ]
    }
   ],
   "source": [
    "recon_data = np.frombuffer(bytes.fromhex(binascii.hexlify(bytes_data).decode(encoding='ascii')), np.float64)\n",
    "print(recon_data)"
   ]
  },
  {
   "cell_type": "code",
   "execution_count": 14,
   "metadata": {},
   "outputs": [
    {
     "name": "stdout",
     "output_type": "stream",
     "text": [
      "<class 'bytearray'>\n",
      "[0.5488135  0.71518937 0.60276338]\n"
     ]
    }
   ],
   "source": [
    "print(type(bytearray.fromhex(hex_str)))\n",
    "recon_data = np.frombuffer(bytearray.fromhex(hex_str), np.float64)\n",
    "print(recon_data)"
   ]
  },
  {
   "cell_type": "code",
   "execution_count": 15,
   "metadata": {},
   "outputs": [
    {
     "name": "stdout",
     "output_type": "stream",
     "text": [
      "<class 'bytes'>\n",
      "[0.5488135  0.71518937 0.60276338]\n"
     ]
    }
   ],
   "source": [
    "print(type(bytes.fromhex(hex_str)))\n",
    "recon_data = np.frombuffer(bytes.fromhex(hex_str), np.float64)\n",
    "print(recon_data)"
   ]
  },
  {
   "cell_type": "code",
   "execution_count": 16,
   "metadata": {},
   "outputs": [
    {
     "ename": "ValueError",
     "evalue": "non-hexadecimal number found in fromhex() arg at position 1",
     "output_type": "error",
     "traceback": [
      "\u001b[1;31m---------------------------------------------------------------------------\u001b[0m",
      "\u001b[1;31mValueError\u001b[0m                                Traceback (most recent call last)",
      "\u001b[1;32m<ipython-input-16-e867a2641698>\u001b[0m in \u001b[0;36m<module>\u001b[1;34m\u001b[0m\n\u001b[1;32m----> 1\u001b[1;33m \u001b[0mrecon_data\u001b[0m \u001b[1;33m=\u001b[0m \u001b[0mnp\u001b[0m\u001b[1;33m.\u001b[0m\u001b[0mfrombuffer\u001b[0m\u001b[1;33m(\u001b[0m\u001b[0mbytearray\u001b[0m\u001b[1;33m.\u001b[0m\u001b[0mfromhex\u001b[0m\u001b[1;33m(\u001b[0m\u001b[0mhex_str2\u001b[0m\u001b[1;33m)\u001b[0m\u001b[1;33m,\u001b[0m \u001b[0mnp\u001b[0m\u001b[1;33m.\u001b[0m\u001b[0mfloat64\u001b[0m\u001b[1;33m)\u001b[0m\u001b[1;33m\u001b[0m\u001b[1;33m\u001b[0m\u001b[0m\n\u001b[0m\u001b[0;32m      2\u001b[0m \u001b[0mprint\u001b[0m\u001b[1;33m(\u001b[0m\u001b[0mrecon_data\u001b[0m\u001b[1;33m)\u001b[0m\u001b[1;33m\u001b[0m\u001b[1;33m\u001b[0m\u001b[0m\n",
      "\u001b[1;31mValueError\u001b[0m: non-hexadecimal number found in fromhex() arg at position 1"
     ]
    }
   ],
   "source": [
    "recon_data = np.frombuffer(bytearray.fromhex(hex_str2), np.float64)\n",
    "print(recon_data)"
   ]
  },
  {
   "cell_type": "code",
   "execution_count": 17,
   "metadata": {},
   "outputs": [
    {
     "name": "stdout",
     "output_type": "stream",
     "text": [
      "[0.5488135  0.71518937 0.60276338]\n"
     ]
    }
   ],
   "source": [
    "recon_data = np.frombuffer(bytearray.fromhex(hex_str2[2:]), np.float64) #should remove 0x in the hex string\n",
    "print(recon_data)"
   ]
  },
  {
   "cell_type": "markdown",
   "metadata": {},
   "source": [
    "# How to convert bytes to string"
   ]
  },
  {
   "cell_type": "code",
   "execution_count": 18,
   "metadata": {},
   "outputs": [
    {
     "name": "stdout",
     "output_type": "stream",
     "text": [
      "<class 'bytes'>\n",
      "abc\n",
      "<class 'str'>\n"
     ]
    }
   ],
   "source": [
    "bytes_object = b\"abc\"\n",
    "print(type(bytes_object))\n",
    "bytes_to_str = bytes_object.decode(encoding='utf-8') # you should put the encoding your data is actually in\n",
    "print(bytes_to_str)\n",
    "print(type(bytes_to_str))"
   ]
  },
  {
   "cell_type": "code",
   "execution_count": 19,
   "metadata": {},
   "outputs": [
    {
     "name": "stdout",
     "output_type": "stream",
     "text": [
      "<class 'bytes'>\n",
      "abc\n",
      "<class 'str'>\n"
     ]
    }
   ],
   "source": [
    "bytes_object = b\"abc\"\n",
    "print(type(bytes_object))\n",
    "bytes_to_str = str(bytes_object,'utf-8')\n",
    "print(bytes_to_str)\n",
    "print(type(bytes_to_str))"
   ]
  },
  {
   "cell_type": "code",
   "execution_count": 20,
   "metadata": {},
   "outputs": [
    {
     "name": "stdout",
     "output_type": "stream",
     "text": [
      "bytes_object.decode() :0.258908899999998\n",
      "\"\".join(map(chr, bytes_object)) :1.1185924999999983\n",
      "\"\".join([chr(_) for _ in bytes_object]) :1.252732199999997\n"
     ]
    }
   ],
   "source": [
    "import timeit\n",
    "print('bytes_object.decode() :' +  str(timeit.timeit(f'{bytes_object}.decode()', number=1000000)))\n",
    "print('\"\".join(map(chr, bytes_object)) :' +  str(timeit.timeit(f'\"\".join(map(chr, {bytes_object}))', number=1000000)))\n",
    "print('\"\".join([chr(_) for _ in bytes_object]) :' +  str(timeit.timeit(f'\"\".join([chr(_) for _ in {bytes_object}])', number=1000000)))"
   ]
  },
  {
   "cell_type": "markdown",
   "metadata": {},
   "source": [
    "# How to format a string of hex numbers"
   ]
  },
  {
   "cell_type": "code",
   "execution_count": 21,
   "metadata": {},
   "outputs": [
    {
     "name": "stdout",
     "output_type": "stream",
     "text": [
      "hex(a) : 0x32\n",
      "f'0x{a:02x}' :0x32\n",
      "f'{a:x}' :32\n",
      "'%x'%a :32\n",
      "'{0:x}'.format(a) :32\n",
      "format(a, 'x') :32\n",
      "hex(a)[2:] :32\n",
      "hex(a).replace('x', '0') :0032\n"
     ]
    }
   ],
   "source": [
    "#positive number\n",
    "a = 50\n",
    "b = hex(a)\n",
    "print(f'hex(a) : {b}')\n",
    "print(\"f'0x{a:02x}' :\"+ f'0x{a:02x}')\n",
    "print(\"f'{a:x}' :\" + f'{a:x}') #remove 0x\n",
    "print(\"'%x'%a :\"+ '%x'%a) #remove 0x\n",
    "print(\"'{0:x}'.format(a) :\" + '{0:x}'.format(a)) #remove 0x\n",
    "print(\"format(a, 'x') :\" + format(a, 'x')) #remove 0x\n",
    "print(\"hex(a)[2:] :\" + hex(a)[2:]) #remove 0x\n",
    "print(\"hex(a).replace('x', '0') :\" + hex(a).replace('x', '0'))"
   ]
  },
  {
   "cell_type": "code",
   "execution_count": 22,
   "metadata": {},
   "outputs": [
    {
     "name": "stdout",
     "output_type": "stream",
     "text": [
      "-0x32\n",
      "0x-32\n",
      "-32\n",
      "-32\n",
      "-32\n",
      "-32\n",
      "x32\n",
      "-0032\n"
     ]
    }
   ],
   "source": [
    "#negative number\n",
    "a = -50\n",
    "b = hex(a)\n",
    "print(b)\n",
    "print(f'0x{a:02x}')\n",
    "print(f'{a:x}') #remove 0x\n",
    "print('%x'%a) #remove 0x\n",
    "print('{0:x}'.format(a)) #remove 0x\n",
    "print(format(a, 'x')) #remove 0x\n",
    "print(hex(a)[2:]) #failed to remove 0x\n",
    "print(hex(a).replace('x', '0')) #leading '0's don't change the value of the number, so this string is mathematically correct"
   ]
  },
  {
   "cell_type": "code",
   "execution_count": 23,
   "metadata": {},
   "outputs": [
    {
     "data": {
      "text/plain": [
       "-32"
      ]
     },
     "execution_count": 23,
     "metadata": {},
     "output_type": "execute_result"
    }
   ],
   "source": [
    "int(hex(a).replace('x', '0'))"
   ]
  },
  {
   "cell_type": "code",
   "execution_count": null,
   "metadata": {},
   "outputs": [],
   "source": []
  },
  {
   "cell_type": "code",
   "execution_count": null,
   "metadata": {},
   "outputs": [],
   "source": []
  }
 ],
 "metadata": {
  "kernelspec": {
   "display_name": "Python 3",
   "language": "python",
   "name": "python3"
  },
  "language_info": {
   "codemirror_mode": {
    "name": "ipython",
    "version": 3
   },
   "file_extension": ".py",
   "mimetype": "text/x-python",
   "name": "python",
   "nbconvert_exporter": "python",
   "pygments_lexer": "ipython3",
   "version": "3.8.3"
  }
 },
 "nbformat": 4,
 "nbformat_minor": 4
}
