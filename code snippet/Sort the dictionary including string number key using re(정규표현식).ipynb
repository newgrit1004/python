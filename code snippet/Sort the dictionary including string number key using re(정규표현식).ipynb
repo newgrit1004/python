{
 "cells": [
  {
   "cell_type": "code",
   "execution_count": 1,
   "metadata": {},
   "outputs": [],
   "source": [
    "import re\n",
    "fruits = {'fruit1':'strawberry', 'fruit2':'banana', 'fruit3':'pear', 'fruit4':'grapes', 'fruit5':'fig',\n",
    "         'fruit6':'pear', 'fruit7':'mango', 'fruit8':'yuja', 'fruit9':'persimmon', 'fruit10':'lime',\n",
    "         'fruit11':'peach', 'fruit12':'blueberry', 'fruit13':'kiwi'}\n"
   ]
  },
  {
   "cell_type": "code",
   "execution_count": 2,
   "metadata": {},
   "outputs": [
    {
     "data": {
      "text/plain": [
       "{'fruit1': 'strawberry',\n",
       " 'fruit10': 'lime',\n",
       " 'fruit11': 'peach',\n",
       " 'fruit12': 'blueberry',\n",
       " 'fruit13': 'kiwi',\n",
       " 'fruit2': 'banana',\n",
       " 'fruit3': 'pear',\n",
       " 'fruit4': 'grapes',\n",
       " 'fruit5': 'fig',\n",
       " 'fruit6': 'pear',\n",
       " 'fruit7': 'mango',\n",
       " 'fruit8': 'yuja',\n",
       " 'fruit9': 'persimmon'}"
      ]
     },
     "execution_count": 2,
     "metadata": {},
     "output_type": "execute_result"
    }
   ],
   "source": [
    "dict(sorted(fruits.items()))"
   ]
  },
  {
   "cell_type": "code",
   "execution_count": 3,
   "metadata": {},
   "outputs": [
    {
     "data": {
      "text/plain": [
       "{'fruit1': 'strawberry',\n",
       " 'fruit2': 'banana',\n",
       " 'fruit3': 'pear',\n",
       " 'fruit4': 'grapes',\n",
       " 'fruit5': 'fig',\n",
       " 'fruit6': 'pear',\n",
       " 'fruit7': 'mango',\n",
       " 'fruit8': 'yuja',\n",
       " 'fruit9': 'persimmon',\n",
       " 'fruit10': 'lime',\n",
       " 'fruit11': 'peach',\n",
       " 'fruit12': 'blueberry',\n",
       " 'fruit13': 'kiwi'}"
      ]
     },
     "execution_count": 3,
     "metadata": {},
     "output_type": "execute_result"
    }
   ],
   "source": [
    "dict(sorted(fruits.items(), key = lambda x : int(re.sub(r'[^0-9]', '', x[0]))))"
   ]
  },
  {
   "cell_type": "code",
   "execution_count": 4,
   "metadata": {},
   "outputs": [
    {
     "data": {
      "text/plain": [
       "'11'"
      ]
     },
     "execution_count": 4,
     "metadata": {},
     "output_type": "execute_result"
    }
   ],
   "source": [
    "re.sub(r'[^0-9]', '', 'fruit11')"
   ]
  },
  {
   "cell_type": "code",
   "execution_count": null,
   "metadata": {},
   "outputs": [],
   "source": []
  }
 ],
 "metadata": {
  "kernelspec": {
   "display_name": "Python 3",
   "language": "python",
   "name": "python3"
  },
  "language_info": {
   "codemirror_mode": {
    "name": "ipython",
    "version": 3
   },
   "file_extension": ".py",
   "mimetype": "text/x-python",
   "name": "python",
   "nbconvert_exporter": "python",
   "pygments_lexer": "ipython3",
   "version": "3.8.3"
  }
 },
 "nbformat": 4,
 "nbformat_minor": 4
}
