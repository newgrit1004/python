{
 "cells": [
  {
   "cell_type": "markdown",
   "id": "8686b4a7",
   "metadata": {},
   "source": [
    "### **Assignment Expression**\n",
    " * alias : Walrus Operator\n",
    " * format : variable := value\n",
    " * usage : allow the assignment and return of a value in the same expression\n",
    " * constraint : python version >= 3.8"
   ]
  },
  {
   "cell_type": "code",
   "execution_count": 1,
   "id": "38058a56",
   "metadata": {},
   "outputs": [
    {
     "name": "stdout",
     "output_type": "stream",
     "text": [
      "1\n"
     ]
    }
   ],
   "source": [
    "# without walrus operator\n",
    "a = 1\n",
    "print(a)"
   ]
  },
  {
   "cell_type": "code",
   "execution_count": 2,
   "id": "fb315427",
   "metadata": {},
   "outputs": [
    {
     "name": "stdout",
     "output_type": "stream",
     "text": [
      "1\n"
     ]
    }
   ],
   "source": [
    "# with walrus operator\n",
    "print(b:=1)"
   ]
  },
  {
   "cell_type": "code",
   "execution_count": 3,
   "id": "1d514ee4",
   "metadata": {},
   "outputs": [
    {
     "name": "stdout",
     "output_type": "stream",
     "text": [
      "<class 'int'>\n",
      "1\n"
     ]
    }
   ],
   "source": [
    "print(type(b))\n",
    "print(b)"
   ]
  },
  {
   "cell_type": "code",
   "execution_count": 4,
   "id": "61d6bece",
   "metadata": {},
   "outputs": [
    {
     "ename": "SyntaxError",
     "evalue": "invalid syntax (Temp/ipykernel_13400/3466132494.py, line 3)",
     "output_type": "error",
     "traceback": [
      "\u001b[1;36m  File \u001b[1;32m\"C:\\Users\\customer\\AppData\\Local\\Temp/ipykernel_13400/3466132494.py\"\u001b[1;36m, line \u001b[1;32m3\u001b[0m\n\u001b[1;33m    if (n = len(RGB)) != 3:\u001b[0m\n\u001b[1;37m          ^\u001b[0m\n\u001b[1;31mSyntaxError\u001b[0m\u001b[1;31m:\u001b[0m invalid syntax\n"
     ]
    }
   ],
   "source": [
    "#without walrus operator, raise SyntaxError : invalid syntax\n",
    "RGB = ['red', 'green', 'blue']\n",
    "if (n = len(RGB)) != 3:\n",
    "    print(f'len(RGB) = {n}')\n",
    "else:\n",
    "    print(f'len(RGB) = {n}')"
   ]
  },
  {
   "cell_type": "code",
   "execution_count": 5,
   "id": "a3f4e33d",
   "metadata": {},
   "outputs": [
    {
     "name": "stdout",
     "output_type": "stream",
     "text": [
      "len(RGB) = 3\n"
     ]
    }
   ],
   "source": [
    "#with walrus operator\n",
    "RGB = ['red', 'green', 'blue']\n",
    "if (n := len(RGB)) != 3:\n",
    "    print(f'len(RGB) = {n}')\n",
    "else:\n",
    "    print(f'len(RGB) = {n}')"
   ]
  },
  {
   "cell_type": "code",
   "execution_count": 6,
   "id": "a07e2149",
   "metadata": {},
   "outputs": [
    {
     "name": "stdout",
     "output_type": "stream",
     "text": [
      "3\n"
     ]
    }
   ],
   "source": [
    "print(n)"
   ]
  },
  {
   "cell_type": "markdown",
   "id": "d931a99f",
   "metadata": {},
   "source": [
    "# Use walrus operator in list"
   ]
  },
  {
   "cell_type": "code",
   "execution_count": 7,
   "id": "e9a6aff3",
   "metadata": {},
   "outputs": [
    {
     "name": "stdout",
     "output_type": "stream",
     "text": [
      "15.1 ms ± 421 µs per loop (mean ± std. dev. of 7 runs, 100 loops each)\n"
     ]
    }
   ],
   "source": [
    "import timeit\n",
    "numbers = list(range(0,10000))\n",
    "f = lambda x : x**3\n",
    "\n",
    "#list comprehension : call the same function twice\n",
    "%timeit results = [f(num) for num in numbers if f(num)%2> 0]"
   ]
  },
  {
   "cell_type": "code",
   "execution_count": 8,
   "id": "919e4b24",
   "metadata": {},
   "outputs": [
    {
     "name": "stdout",
     "output_type": "stream",
     "text": [
      "1.28 µs ± 44 ns per loop (mean ± std. dev. of 7 runs, 1000000 loops each)\n"
     ]
    }
   ],
   "source": [
    "# Using filter\n",
    "%timeit results = filter(lambda value: value%2 > 0, (f(num) for num in numbers)) #fastest, but readability is bad"
   ]
  },
  {
   "cell_type": "code",
   "execution_count": 9,
   "id": "7bdb8732",
   "metadata": {},
   "outputs": [
    {
     "name": "stdout",
     "output_type": "stream",
     "text": [
      "11.1 ms ± 341 µs per loop (mean ± std. dev. of 7 runs, 100 loops each)\n"
     ]
    }
   ],
   "source": [
    "# Using a double list comprehension\n",
    "%timeit results = [value for num in numbers for value in [f(num)] if value%2 > 0]"
   ]
  },
  {
   "cell_type": "code",
   "execution_count": 10,
   "id": "c16dd6ff",
   "metadata": {},
   "outputs": [
    {
     "name": "stdout",
     "output_type": "stream",
     "text": [
      "11 ms ± 467 µs per loop (mean ± std. dev. of 7 runs, 100 loops each)\n"
     ]
    }
   ],
   "source": [
    "# Using walrus operator\n",
    "# walurs operator should be on the if clause\n",
    "%timeit results = [value for num in numbers if (value := f(num))%2 > 0]"
   ]
  },
  {
   "cell_type": "markdown",
   "id": "a8d6c5c2",
   "metadata": {},
   "source": [
    "# Use Walrus operator in Dict"
   ]
  },
  {
   "cell_type": "code",
   "execution_count": 11,
   "id": "57e867d9",
   "metadata": {},
   "outputs": [
    {
     "name": "stdout",
     "output_type": "stream",
     "text": [
      "{'length': 10, 'sum': 45}\n"
     ]
    }
   ],
   "source": [
    "#without walrus operator\n",
    "numbers = list(range(0, 10))\n",
    "num_length = len(numbers)\n",
    "num_sum = sum(numbers)\n",
    "info = {\n",
    "    'length': num_length,\n",
    "    'sum' : num_sum\n",
    "}\n",
    "print(info)"
   ]
  },
  {
   "cell_type": "code",
   "execution_count": 12,
   "id": "6dbcd3c6",
   "metadata": {},
   "outputs": [
    {
     "name": "stdout",
     "output_type": "stream",
     "text": [
      "{'length': 10, 'sum': 45}\n"
     ]
    }
   ],
   "source": [
    "#with walrus operator\n",
    "numbers = list(range(0, 10))\n",
    "info = {\n",
    "    'length': (num_length := len(numbers)),\n",
    "    'sum' : (num_sum := sum(numbers))\n",
    "}\n",
    "print(info)"
   ]
  },
  {
   "cell_type": "markdown",
   "id": "2eaf9a0c",
   "metadata": {},
   "source": [
    "# Use Walrus operator in pandas"
   ]
  },
  {
   "cell_type": "code",
   "execution_count": 5,
   "id": "eae9df08",
   "metadata": {},
   "outputs": [],
   "source": [
    "#without using Walrus operator\n",
    "import pandas as pd\n",
    "df = pd.DataFrame({'Sales':[10,20,30,40,50], 'A':[3,4,7,6,1]})\n",
    "s = 30\n",
    "mask = df['Sales'] >= s\n",
    "df1 = df[mask]\n",
    "df2 = df[~mask]"
   ]
  },
  {
   "cell_type": "code",
   "execution_count": 6,
   "id": "ab44f5a1",
   "metadata": {},
   "outputs": [
    {
     "name": "stdout",
     "output_type": "stream",
     "text": [
      "   Sales  A\n",
      "2     30  7\n",
      "3     40  6\n",
      "4     50  1\n"
     ]
    }
   ],
   "source": [
    "print(df1)"
   ]
  },
  {
   "cell_type": "code",
   "execution_count": 7,
   "id": "a50cf8ff",
   "metadata": {},
   "outputs": [
    {
     "name": "stdout",
     "output_type": "stream",
     "text": [
      "   Sales  A\n",
      "0     10  3\n",
      "1     20  4\n"
     ]
    }
   ],
   "source": [
    "print(df2)"
   ]
  },
  {
   "cell_type": "code",
   "execution_count": 8,
   "id": "5184d257",
   "metadata": {},
   "outputs": [],
   "source": [
    "#with using Walrus operator\n",
    "df1, df2 = df[(mask:=df['Sales'] >= (s:=30))], df[~mask]"
   ]
  },
  {
   "cell_type": "code",
   "execution_count": 9,
   "id": "05f0775c",
   "metadata": {},
   "outputs": [
    {
     "name": "stdout",
     "output_type": "stream",
     "text": [
      "   Sales  A\n",
      "2     30  7\n",
      "3     40  6\n",
      "4     50  1\n"
     ]
    }
   ],
   "source": [
    "print(df1)"
   ]
  },
  {
   "cell_type": "code",
   "execution_count": 10,
   "id": "70cebfe4",
   "metadata": {},
   "outputs": [
    {
     "name": "stdout",
     "output_type": "stream",
     "text": [
      "   Sales  A\n",
      "0     10  3\n",
      "1     20  4\n"
     ]
    }
   ],
   "source": [
    "print(df2)"
   ]
  },
  {
   "cell_type": "code",
   "execution_count": 11,
   "id": "e26bcb55",
   "metadata": {},
   "outputs": [
    {
     "name": "stdout",
     "output_type": "stream",
     "text": [
      "30\n"
     ]
    }
   ],
   "source": [
    "print(s)"
   ]
  },
  {
   "cell_type": "code",
   "execution_count": 12,
   "id": "29cf2037",
   "metadata": {},
   "outputs": [
    {
     "name": "stdout",
     "output_type": "stream",
     "text": [
      "0    False\n",
      "1    False\n",
      "2     True\n",
      "3     True\n",
      "4     True\n",
      "Name: Sales, dtype: bool\n"
     ]
    }
   ],
   "source": [
    "print(mask)"
   ]
  },
  {
   "cell_type": "code",
   "execution_count": null,
   "id": "192a6086",
   "metadata": {},
   "outputs": [],
   "source": []
  }
 ],
 "metadata": {
  "kernelspec": {
   "display_name": "Python 3 (ipykernel)",
   "language": "python",
   "name": "python3"
  },
  "language_info": {
   "codemirror_mode": {
    "name": "ipython",
    "version": 3
   },
   "file_extension": ".py",
   "mimetype": "text/x-python",
   "name": "python",
   "nbconvert_exporter": "python",
   "pygments_lexer": "ipython3",
   "version": "3.9.7"
  }
 },
 "nbformat": 4,
 "nbformat_minor": 5
}
