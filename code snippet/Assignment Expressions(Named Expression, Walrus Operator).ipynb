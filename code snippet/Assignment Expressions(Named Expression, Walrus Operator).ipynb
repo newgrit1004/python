{
 "cells": [
  {
   "cell_type": "code",
   "execution_count": 1,
   "id": "5418132c",
   "metadata": {},
   "outputs": [],
   "source": [
    "a = [1, 2, 3, 4]\n",
    "n = len(a)\n",
    "if n > 5:\n",
    "    print(f\"List is too long ({n} elements, expected <= 5)\")"
   ]
  },
  {
   "cell_type": "code",
   "execution_count": 2,
   "id": "80c977ea",
   "metadata": {},
   "outputs": [],
   "source": [
    "a = [1, 2, 3, 4]\n",
    "if (n := len(a)) > 5:\n",
    "    print(f\"List is too long ({n} elements, expected <= 5)\")"
   ]
  },
  {
   "cell_type": "code",
   "execution_count": null,
   "id": "dbb71016",
   "metadata": {},
   "outputs": [],
   "source": [
    "y = f(x)\n",
    "[y, y**2, y**3]"
   ]
  },
  {
   "cell_type": "code",
   "execution_count": null,
   "id": "113a37dc",
   "metadata": {},
   "outputs": [],
   "source": [
    "[y := f(x), y**2, y**3]"
   ]
  },
  {
   "cell_type": "code",
   "execution_count": null,
   "id": "271616c8",
   "metadata": {},
   "outputs": [],
   "source": [
    "# 최상위의 if`문\n",
    "if match := pattern.match(line):\n",
    "    return match.group(1)\n",
    "\n",
    "# 단순한 함수 호출\n",
    "len(lines := f.readlines())"
   ]
  },
  {
   "cell_type": "markdown",
   "id": "23c69c5e",
   "metadata": {},
   "source": [
    "https://int-i.github.io/python/2020-05-29/python-walrus-operator/"
   ]
  }
 ],
 "metadata": {
  "kernelspec": {
   "display_name": "Python 3 (ipykernel)",
   "language": "python",
   "name": "python3"
  },
  "language_info": {
   "codemirror_mode": {
    "name": "ipython",
    "version": 3
   },
   "file_extension": ".py",
   "mimetype": "text/x-python",
   "name": "python",
   "nbconvert_exporter": "python",
   "pygments_lexer": "ipython3",
   "version": "3.9.7"
  }
 },
 "nbformat": 4,
 "nbformat_minor": 5
}
