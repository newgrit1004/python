{
 "cells": [
  {
   "cell_type": "markdown",
   "metadata": {},
   "source": [
    "# Distance measure\n",
    " * Euclidean Distance\n",
    " * Manhattan Distance\n",
    " * Minkowski Distance\n",
    " * Mahalanobis Distance\n",
    " * Pearson Distance\n",
    " * Cosine Distance\n",
    " * Jaccard Distance\n",
    " "
   ]
  },
  {
   "cell_type": "markdown",
   "metadata": {},
   "source": [
    "# Euclidean Distance"
   ]
  },
  {
   "cell_type": "code",
   "execution_count": 1,
   "metadata": {},
   "outputs": [
    {
     "name": "stdout",
     "output_type": "stream",
     "text": [
      "5.196152422706632\n"
     ]
    }
   ],
   "source": [
    "import numpy as np\n",
    "x = np.array([1,2,3])\n",
    "y = np.array([4,5,6])\n",
    "dist = np.linalg.norm(x-y, axis=0)\n",
    "print(dist)"
   ]
  },
  {
   "cell_type": "code",
   "execution_count": 2,
   "metadata": {},
   "outputs": [
    {
     "name": "stdout",
     "output_type": "stream",
     "text": [
      "5.196152422706632\n"
     ]
    }
   ],
   "source": [
    "x = np.array([1,2,3])\n",
    "y = np.array([4,5,6])\n",
    "dist = np.sqrt(np.sum((x-y)**2, axis=0))\n",
    "print(dist)"
   ]
  },
  {
   "cell_type": "code",
   "execution_count": 3,
   "metadata": {},
   "outputs": [
    {
     "name": "stdout",
     "output_type": "stream",
     "text": [
      "5.196152422706632\n"
     ]
    }
   ],
   "source": [
    "from scipy.spatial import distance\n",
    "x = (1, 2, 3)\n",
    "y = (4, 5, 6)\n",
    "dist = distance.euclidean(x, y) #Computes the Euclidean distance between two 1-D arrays\n",
    "print(dist)"
   ]
  },
  {
   "cell_type": "code",
   "execution_count": 4,
   "metadata": {},
   "outputs": [
    {
     "data": {
      "text/plain": [
       "5.196152422706632"
      ]
     },
     "execution_count": 4,
     "metadata": {},
     "output_type": "execute_result"
    }
   ],
   "source": [
    "from math import dist\n",
    "dist([1,2,3],[4,5,6])"
   ]
  },
  {
   "cell_type": "code",
   "execution_count": null,
   "metadata": {},
   "outputs": [
    {
     "data": {
      "application/vnd.jupyter.widget-view+json": {
       "model_id": "610048caf9264de69520e88736797aa5",
       "version_major": 2,
       "version_minor": 0
      },
      "text/plain": [
       "Output()"
      ]
     },
     "metadata": {},
     "output_type": "display_data"
    }
   ],
   "source": [
    "#source : https://stackoverflow.com/questions/1401712/how-can-the-euclidean-distance-be-calculated-with-numpy/47542304#47542304, Nico Schlömer's answer\n",
    "import numpy as np\n",
    "import perfplot\n",
    "from math import dist\n",
    "from scipy.spatial import distance\n",
    "\n",
    "def linalg_norm(data):\n",
    "    a, b = data\n",
    "    return np.linalg.norm(a - b, axis=1)\n",
    "\n",
    "def sqrt_sum(data):\n",
    "    a, b = data\n",
    "    return np.sqrt(np.sum((a - b) ** 2, axis=1))\n",
    "\n",
    "def scipy_dist(data):\n",
    "    a, b = data\n",
    "    return list(map(distance.euclidean, a, b))\n",
    "\n",
    "def math_dist(data):\n",
    "    a, b = data\n",
    "    return list(map(dist, a, b))\n",
    "\n",
    "def setup(n):\n",
    "    a = np.random.rand(n, 3)\n",
    "    b = np.random.rand(n, 3)\n",
    "    return np.array([a, b])\n",
    "\n",
    "result = perfplot.bench(\n",
    "    setup=setup,\n",
    "    n_range=[2 ** k for k in range(20)],\n",
    "    kernels=[linalg_norm, sqrt_sum, scipy_dist, math_dist],\n",
    "    xlabel=\"len(x)\",\n",
    ")"
   ]
  },
  {
   "cell_type": "code",
   "execution_count": null,
   "metadata": {},
   "outputs": [],
   "source": [
    "result.show"
   ]
  },
  {
   "cell_type": "code",
   "execution_count": null,
   "metadata": {},
   "outputs": [],
   "source": [
    "result.show()"
   ]
  },
  {
   "cell_type": "markdown",
   "metadata": {},
   "source": [
    "# Manhattan Distance"
   ]
  },
  {
   "cell_type": "code",
   "execution_count": null,
   "metadata": {},
   "outputs": [],
   "source": [
    "from scipy.spatial.distance import cityblock, cdist\n",
    "\n",
    "x = np.array([1,2,3])\n",
    "y = np.array([4,5,6])\n",
    "cityblock(x,y) #input must be 1D"
   ]
  },
  {
   "cell_type": "code",
   "execution_count": null,
   "metadata": {},
   "outputs": [],
   "source": [
    "n = 5\n",
    "x = np.random.rand(n, 3)\n",
    "y = np.random.rand(n, 3)\n",
    "cdist(x,y, 'cityblock')#input must be 2D"
   ]
  },
  {
   "cell_type": "markdown",
   "metadata": {},
   "source": [
    "# Minkowski Distance"
   ]
  },
  {
   "cell_type": "code",
   "execution_count": null,
   "metadata": {},
   "outputs": [],
   "source": [
    "from scipy.spatial import distance\n",
    "x = np.array([1,2,3])\n",
    "y = np.array([4,5,6])\n",
    "\n",
    "print(distance.minkowski(x,y, 1))\n",
    "print(distance.minkowski(x,y, 2))\n",
    "print(distance.minkowski(x,y, 3))"
   ]
  },
  {
   "cell_type": "markdown",
   "metadata": {},
   "source": [
    "# Mahalanobis Distance"
   ]
  },
  {
   "cell_type": "code",
   "execution_count": null,
   "metadata": {},
   "outputs": [],
   "source": [
    "import numpy as np\n",
    "from scipy.spatial.distance import cdist\n",
    "n = 3\n",
    "x = np.random.rand(n, 3)\n",
    "y = np.random.rand(n, 3)\n",
    "results =  cdist(x,y,'mahalanobis', VI = None)\n",
    "print(results)\n",
    "dist = np.diag(results)\n",
    "print(dist)"
   ]
  },
  {
   "cell_type": "code",
   "execution_count": null,
   "metadata": {},
   "outputs": [],
   "source": []
  }
 ],
 "metadata": {
  "kernelspec": {
   "display_name": "Python 3",
   "language": "python",
   "name": "python3"
  },
  "language_info": {
   "codemirror_mode": {
    "name": "ipython",
    "version": 3
   },
   "file_extension": ".py",
   "mimetype": "text/x-python",
   "name": "python",
   "nbconvert_exporter": "python",
   "pygments_lexer": "ipython3",
   "version": "3.8.3"
  }
 },
 "nbformat": 4,
 "nbformat_minor": 4
}
