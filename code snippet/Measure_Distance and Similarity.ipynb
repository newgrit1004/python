{
 "cells": [
  {
   "cell_type": "markdown",
   "metadata": {},
   "source": [
    "# Distance measure\n",
    " * Euclidean Distance\n",
    " * Manhattan Distance\n",
    " * Minkowski Distance\n",
    " * Mahalanobis Distance\n",
    " "
   ]
  },
  {
   "cell_type": "markdown",
   "metadata": {},
   "source": [
    "# Euclidean Distance"
   ]
  },
  {
   "cell_type": "code",
   "execution_count": 1,
   "metadata": {},
   "outputs": [
    {
     "name": "stdout",
     "output_type": "stream",
     "text": [
      "5.196152422706632\n"
     ]
    }
   ],
   "source": [
    "import numpy as np\n",
    "x = np.array([1,2,3])\n",
    "y = np.array([4,5,6])\n",
    "dist = np.linalg.norm(x-y, axis=0)\n",
    "print(dist)"
   ]
  },
  {
   "cell_type": "code",
   "execution_count": 2,
   "metadata": {},
   "outputs": [
    {
     "name": "stdout",
     "output_type": "stream",
     "text": [
      "5.196152422706632\n"
     ]
    }
   ],
   "source": [
    "x = np.array([1,2,3])\n",
    "y = np.array([4,5,6])\n",
    "dist = np.sqrt(np.sum((x-y)**2, axis=0))\n",
    "print(dist)"
   ]
  },
  {
   "cell_type": "code",
   "execution_count": 3,
   "metadata": {},
   "outputs": [
    {
     "name": "stdout",
     "output_type": "stream",
     "text": [
      "5.196152422706632\n"
     ]
    }
   ],
   "source": [
    "from scipy.spatial import distance\n",
    "x = (1, 2, 3)\n",
    "y = (4, 5, 6)\n",
    "dist = distance.euclidean(x, y) #Computes the Euclidean distance between two 1-D arrays\n",
    "print(dist)"
   ]
  },
  {
   "cell_type": "code",
   "execution_count": 4,
   "metadata": {},
   "outputs": [
    {
     "data": {
      "text/plain": [
       "5.196152422706632"
      ]
     },
     "execution_count": 4,
     "metadata": {},
     "output_type": "execute_result"
    }
   ],
   "source": [
    "from math import dist\n",
    "dist([1,2,3],[4,5,6])"
   ]
  },
  {
   "cell_type": "code",
   "execution_count": 5,
   "metadata": {},
   "outputs": [
    {
     "data": {
      "application/vnd.jupyter.widget-view+json": {
       "model_id": "610048caf9264de69520e88736797aa5",
       "version_major": 2,
       "version_minor": 0
      },
      "text/plain": [
       "Output()"
      ]
     },
     "metadata": {},
     "output_type": "display_data"
    },
    {
     "data": {
      "text/html": [
       "<pre style=\"white-space:pre;overflow-x:auto;line-height:normal;font-family:Menlo,'DejaVu Sans Mono',consolas,'Courier New',monospace\"></pre>\n"
      ],
      "text/plain": []
     },
     "metadata": {},
     "output_type": "display_data"
    },
    {
     "data": {
      "text/html": [
       "<pre style=\"white-space:pre;overflow-x:auto;line-height:normal;font-family:Menlo,'DejaVu Sans Mono',consolas,'Courier New',monospace\">\n",
       "</pre>\n"
      ],
      "text/plain": [
       "\n"
      ]
     },
     "metadata": {},
     "output_type": "display_data"
    }
   ],
   "source": [
    "#source : https://stackoverflow.com/questions/1401712/how-can-the-euclidean-distance-be-calculated-with-numpy/47542304#47542304, Nico Schlömer's answer\n",
    "import numpy as np\n",
    "import perfplot\n",
    "from math import dist\n",
    "from scipy.spatial import distance\n",
    "\n",
    "def linalg_norm(data):\n",
    "    a, b = data\n",
    "    return np.linalg.norm(a - b, axis=1)\n",
    "\n",
    "def sqrt_sum(data):\n",
    "    a, b = data\n",
    "    return np.sqrt(np.sum((a - b) ** 2, axis=1))\n",
    "\n",
    "def scipy_dist(data):\n",
    "    a, b = data\n",
    "    return list(map(distance.euclidean, a, b))\n",
    "\n",
    "def math_dist(data):\n",
    "    a, b = data\n",
    "    return list(map(dist, a, b))\n",
    "\n",
    "def setup(n):\n",
    "    a = np.random.rand(n, 3)\n",
    "    b = np.random.rand(n, 3)\n",
    "    return np.array([a, b])\n",
    "\n",
    "result = perfplot.bench(\n",
    "    setup=setup,\n",
    "    n_range=[2 ** k for k in range(20)],\n",
    "    kernels=[linalg_norm, sqrt_sum, scipy_dist, math_dist],\n",
    "    xlabel=\"len(x)\",\n",
    ")"
   ]
  },
  {
   "cell_type": "code",
   "execution_count": 6,
   "metadata": {},
   "outputs": [
    {
     "data": {
      "text/html": [
       "<pre style=\"white-space:pre;overflow-x:auto;line-height:normal;font-family:Menlo,'DejaVu Sans Mono',consolas,'Courier New',monospace\">┏━━━━━━━━┳━━━━━━━━━━━━━━━━━━━━┳━━━━━━━━━━━━━━━━━━━━┳━━━━━━━━━━━━━━━━━━━━┳━━━━━━━━━━━━━━━━━━━┓\n",
       "┃<span style=\"font-weight: bold\"> n      </span>┃<span style=\"font-weight: bold\"> linalg_norm        </span>┃<span style=\"font-weight: bold\"> sqrt_sum           </span>┃<span style=\"font-weight: bold\"> scipy_dist         </span>┃<span style=\"font-weight: bold\"> math_dist         </span>┃\n",
       "┡━━━━━━━━╇━━━━━━━━━━━━━━━━━━━━╇━━━━━━━━━━━━━━━━━━━━╇━━━━━━━━━━━━━━━━━━━━╇━━━━━━━━━━━━━━━━━━━┩\n",
       "│ 1      │ 1.710000000000000… │ 1.920000000000000… │ 4.840000000000000… │ 8.6e-06           │\n",
       "│ 2      │ 1.77e-05           │ 1.87e-05           │ 4.960000000000000… │ 1.25e-05          │\n",
       "│ 4      │ 1.77e-05           │ 1.95e-05           │ 8.730000000000001… │ 1.99000000000000… │\n",
       "│ 8      │ 1.8e-05            │ 1.91e-05           │ 0.0001705          │ 3.52e-05          │\n",
       "│ 16     │ 1.84e-05           │ 1.86e-05           │ 0.0003194          │ 6.59e-05          │\n",
       "│ 32     │ 1.83e-05           │ 1.890000000000000… │ 0.0006622          │ 0.0001341         │\n",
       "│ 64     │ 2.070000000000000… │ 2.16e-05           │ 0.001357100000000… │ 0.0002522         │\n",
       "│ 128    │ 2.310000000000000… │ 2.37e-05           │ 0.002843700000000… │ 0.0005437         │\n",
       "│ 256    │ 2.79e-05           │ 2.93e-05           │ 0.0059197          │ 0.001095          │\n",
       "│ 512    │ 3.71e-05           │ 3.640000000000000… │ 0.0107112          │ 0.0022883         │\n",
       "│ 1024   │ 5.92e-05           │ 4.19e-05           │ 0.024912800000000… │ 0.0048047         │\n",
       "│ 2048   │ 8.98e-05           │ 8.840000000000001… │ 0.0509193          │ 0.0101172         │\n",
       "│ 4096   │ 0.0001506          │ 0.0001575          │ 0.1030955          │ 0.0208512         │\n",
       "│ 8192   │ 0.000313700000000… │ 0.0002942          │ 0.211391900000000… │ 0.04118060000000… │\n",
       "│ 16384  │ 0.000556600000000… │ 0.000581300000000… │ 0.417305300000000… │ 0.0812079         │\n",
       "│ 32768  │ 0.001971           │ 0.001122700000000… │ 0.931964           │ 0.17450680000000… │\n",
       "│ 65536  │ 0.0043559          │ 0.004170200000000… │ 1.9433461          │ 0.37814250000000… │\n",
       "│ 131072 │ 0.009561           │ 0.0089721          │ 3.6534983000000003 │ 0.7293045         │\n",
       "│ 262144 │ 0.020535900000000… │ 0.021131300000000… │ 7.26255            │ 1.4186677         │\n",
       "│ 524288 │ 0.0402976          │ 0.041729100000000… │ 14.458434200000001 │ 2.9711351         │\n",
       "└────────┴────────────────────┴────────────────────┴────────────────────┴───────────────────┘\n",
       "</pre>\n"
      ],
      "text/plain": [
       "┏━━━━━━━━┳━━━━━━━━━━━━━━━━━━━━┳━━━━━━━━━━━━━━━━━━━━┳━━━━━━━━━━━━━━━━━━━━┳━━━━━━━━━━━━━━━━━━━┓\n",
       "┃\u001b[1m \u001b[0m\u001b[1mn     \u001b[0m\u001b[1m \u001b[0m┃\u001b[1m \u001b[0m\u001b[1mlinalg_norm       \u001b[0m\u001b[1m \u001b[0m┃\u001b[1m \u001b[0m\u001b[1msqrt_sum          \u001b[0m\u001b[1m \u001b[0m┃\u001b[1m \u001b[0m\u001b[1mscipy_dist        \u001b[0m\u001b[1m \u001b[0m┃\u001b[1m \u001b[0m\u001b[1mmath_dist        \u001b[0m\u001b[1m \u001b[0m┃\n",
       "┡━━━━━━━━╇━━━━━━━━━━━━━━━━━━━━╇━━━━━━━━━━━━━━━━━━━━╇━━━━━━━━━━━━━━━━━━━━╇━━━━━━━━━━━━━━━━━━━┩\n",
       "│ 1      │ 1.710000000000000… │ 1.920000000000000… │ 4.840000000000000… │ 8.6e-06           │\n",
       "│ 2      │ 1.77e-05           │ 1.87e-05           │ 4.960000000000000… │ 1.25e-05          │\n",
       "│ 4      │ 1.77e-05           │ 1.95e-05           │ 8.730000000000001… │ 1.99000000000000… │\n",
       "│ 8      │ 1.8e-05            │ 1.91e-05           │ 0.0001705          │ 3.52e-05          │\n",
       "│ 16     │ 1.84e-05           │ 1.86e-05           │ 0.0003194          │ 6.59e-05          │\n",
       "│ 32     │ 1.83e-05           │ 1.890000000000000… │ 0.0006622          │ 0.0001341         │\n",
       "│ 64     │ 2.070000000000000… │ 2.16e-05           │ 0.001357100000000… │ 0.0002522         │\n",
       "│ 128    │ 2.310000000000000… │ 2.37e-05           │ 0.002843700000000… │ 0.0005437         │\n",
       "│ 256    │ 2.79e-05           │ 2.93e-05           │ 0.0059197          │ 0.001095          │\n",
       "│ 512    │ 3.71e-05           │ 3.640000000000000… │ 0.0107112          │ 0.0022883         │\n",
       "│ 1024   │ 5.92e-05           │ 4.19e-05           │ 0.024912800000000… │ 0.0048047         │\n",
       "│ 2048   │ 8.98e-05           │ 8.840000000000001… │ 0.0509193          │ 0.0101172         │\n",
       "│ 4096   │ 0.0001506          │ 0.0001575          │ 0.1030955          │ 0.0208512         │\n",
       "│ 8192   │ 0.000313700000000… │ 0.0002942          │ 0.211391900000000… │ 0.04118060000000… │\n",
       "│ 16384  │ 0.000556600000000… │ 0.000581300000000… │ 0.417305300000000… │ 0.0812079         │\n",
       "│ 32768  │ 0.001971           │ 0.001122700000000… │ 0.931964           │ 0.17450680000000… │\n",
       "│ 65536  │ 0.0043559          │ 0.004170200000000… │ 1.9433461          │ 0.37814250000000… │\n",
       "│ 131072 │ 0.009561           │ 0.0089721          │ 3.6534983000000003 │ 0.7293045         │\n",
       "│ 262144 │ 0.020535900000000… │ 0.021131300000000… │ 7.26255            │ 1.4186677         │\n",
       "│ 524288 │ 0.0402976          │ 0.041729100000000… │ 14.458434200000001 │ 2.9711351         │\n",
       "└────────┴────────────────────┴────────────────────┴────────────────────┴───────────────────┘\n"
      ]
     },
     "metadata": {},
     "output_type": "display_data"
    },
    {
     "data": {
      "text/plain": [
       "<bound method PerfplotData.show of >"
      ]
     },
     "execution_count": 6,
     "metadata": {},
     "output_type": "execute_result"
    }
   ],
   "source": [
    "result.show"
   ]
  },
  {
   "cell_type": "code",
   "execution_count": 7,
   "metadata": {},
   "outputs": [
    {
     "name": "stdout",
     "output_type": "stream",
     "text": [
      "(8.599999999999994e-06, 14.458434200000003)\n"
     ]
    },
    {
     "data": {
      "image/png": "[encoded data removed]",
      "text/plain": [
       "<Figure size 432x288 with 1 Axes>"
      ]
     },
     "metadata": {
      "needs_background": "dark"
     },
     "output_type": "display_data"
    }
   ],
   "source": [
    "result.show()"
   ]
  },
  {
   "cell_type": "markdown",
   "metadata": {},
   "source": [
    "# Manhattan Distance"
   ]
  },
  {
   "cell_type": "code",
   "execution_count": 5,
   "metadata": {},
   "outputs": [
    {
     "data": {
      "text/plain": [
       "9"
      ]
     },
     "execution_count": 5,
     "metadata": {},
     "output_type": "execute_result"
    }
   ],
   "source": [
    "from scipy.spatial.distance import cityblock, cdist\n",
    "\n",
    "x = np.array([1,2,3])\n",
    "y = np.array([4,5,6])\n",
    "cityblock(x,y) #input must be 1D"
   ]
  },
  {
   "cell_type": "code",
   "execution_count": 6,
   "metadata": {},
   "outputs": [
    {
     "data": {
      "text/plain": [
       "array([[0.80695126, 0.17013092, 0.18714514, 1.23968003, 1.26418483],\n",
       "       [0.70109565, 1.47617446, 1.53747008, 1.40932579, 1.53238124],\n",
       "       [0.65580285, 1.23279821, 1.26025383, 1.39110164, 1.51415709],\n",
       "       [1.5863305 , 1.73250236, 1.79379798, 0.52469478, 0.79483014],\n",
       "       [1.03300673, 1.80808554, 1.86938116, 0.74349926, 0.57577316]])"
      ]
     },
     "execution_count": 6,
     "metadata": {},
     "output_type": "execute_result"
    }
   ],
   "source": [
    "n = 5\n",
    "x = np.random.rand(n, 3)\n",
    "y = np.random.rand(n, 3)\n",
    "cdist(x,y, 'cityblock')#input must be 2D"
   ]
  },
  {
   "cell_type": "markdown",
   "metadata": {},
   "source": [
    "# Minkowski Distance"
   ]
  },
  {
   "cell_type": "code",
   "execution_count": 7,
   "metadata": {},
   "outputs": [
    {
     "name": "stdout",
     "output_type": "stream",
     "text": [
      "9.0\n",
      "5.196152422706632\n",
      "4.3267487109222245\n"
     ]
    }
   ],
   "source": [
    "from scipy.spatial import distance\n",
    "x = np.array([1,2,3])\n",
    "y = np.array([4,5,6])\n",
    "\n",
    "print(distance.minkowski(x,y, 1))\n",
    "print(distance.minkowski(x,y, 2))\n",
    "print(distance.minkowski(x,y, 3))"
   ]
  },
  {
   "cell_type": "markdown",
   "metadata": {},
   "source": [
    "# Mahalanobis Distance"
   ]
  },
  {
   "cell_type": "code",
   "execution_count": 8,
   "metadata": {},
   "outputs": [
    {
     "name": "stdout",
     "output_type": "stream",
     "text": [
      "[[1.6212784  2.91938905 2.02358908]\n",
      " [2.96293892 2.91663225 2.80381814]\n",
      " [2.26939714 1.99130273 2.70407497]]\n",
      "[1.6212784  2.91663225 2.70407497]\n"
     ]
    }
   ],
   "source": [
    "import numpy as np\n",
    "from scipy.spatial.distance import cdist\n",
    "n = 3\n",
    "x = np.random.rand(n, 3)\n",
    "y = np.random.rand(n, 3)\n",
    "results =  cdist(x,y,'mahalanobis', VI = None)\n",
    "print(results)\n",
    "dist = np.diag(results)\n",
    "print(dist)"
   ]
  },
  {
   "cell_type": "markdown",
   "metadata": {},
   "source": [
    "# Similarity measure\n",
    " * Cosine Similarity\n",
    " * Jaccard Similarity\n",
    " "
   ]
  },
  {
   "cell_type": "markdown",
   "metadata": {},
   "source": [
    "# Cosine Similarity"
   ]
  },
  {
   "cell_type": "code",
   "execution_count": 9,
   "metadata": {},
   "outputs": [
    {
     "name": "stdout",
     "output_type": "stream",
     "text": [
      "0.8304547985373998\n"
     ]
    }
   ],
   "source": [
    "from scipy.spatial import distance\n",
    "x = [1,2,3,4]\n",
    "y = [8,7,6,5]\n",
    "cos_sim = 1 - distance.cosine(x,y)\n",
    "print(cos_sim)"
   ]
  },
  {
   "cell_type": "code",
   "execution_count": 10,
   "metadata": {},
   "outputs": [
    {
     "name": "stdout",
     "output_type": "stream",
     "text": [
      "0.8304547985373996\n"
     ]
    }
   ],
   "source": [
    "import numpy as np\n",
    "x = [1,2,3,4]\n",
    "y = [8,7,6,5]\n",
    "cos_sim = np.dot(x,y)/(np.linalg.norm(x)*np.linalg.norm(y))\n",
    "print(cos_sim)"
   ]
  },
  {
   "cell_type": "code",
   "execution_count": 11,
   "metadata": {},
   "outputs": [
    {
     "name": "stdout",
     "output_type": "stream",
     "text": [
      "0.8304547985373996\n"
     ]
    }
   ],
   "source": [
    "from sklearn.metrics.pairwise import cosine_similarity, cosine_distances\n",
    "x = np.array([1,2,3,4])\n",
    "y = np.array([8,7,6,5])\n",
    "cos_sim = cosine_similarity(x.reshape(1,-1), y.reshape(1,-1))[0][0] #make the input vector as 2D-vector\n",
    "print(cos_sim)"
   ]
  },
  {
   "cell_type": "code",
   "execution_count": 13,
   "metadata": {},
   "outputs": [
    {
     "data": {
      "application/vnd.jupyter.widget-view+json": {
       "model_id": "bb9328b25f964e5daec60a3ac55bff9f",
       "version_major": 2,
       "version_minor": 0
      },
      "text/plain": [
       "Output()"
      ]
     },
     "metadata": {},
     "output_type": "display_data"
    },
    {
     "data": {
      "text/html": [
       "<pre style=\"white-space:pre;overflow-x:auto;line-height:normal;font-family:Menlo,'DejaVu Sans Mono',consolas,'Courier New',monospace\"></pre>\n"
      ],
      "text/plain": []
     },
     "metadata": {},
     "output_type": "display_data"
    },
    {
     "data": {
      "text/html": [
       "<pre style=\"white-space:pre;overflow-x:auto;line-height:normal;font-family:Menlo,'DejaVu Sans Mono',consolas,'Courier New',monospace\">\n",
       "</pre>\n"
      ],
      "text/plain": [
       "\n"
      ]
     },
     "metadata": {},
     "output_type": "display_data"
    }
   ],
   "source": [
    "import numpy as np\n",
    "import perfplot\n",
    "from math import dist\n",
    "from scipy.spatial import distance\n",
    "\n",
    "def numpy_cos(data):\n",
    "    a, b = data\n",
    "    return np.dot(a,b)/(np.linalg.norm(a)*np.linalg.norm(b))\n",
    "\n",
    "def sklearn_cos(data):\n",
    "    a, b = data\n",
    "    return cosine_similarity(a.reshape(1,-1), b.reshape(1,-1))[0][0]\n",
    "\n",
    "def scipy_cos(data):\n",
    "    a, b = data\n",
    "    return 1 - distance.cosine(a,b)\n",
    "\n",
    "def setup(n):\n",
    "    a = np.random.rand(n)\n",
    "    b = np.random.rand(n)\n",
    "    return np.array([a, b])\n",
    "\n",
    "result = perfplot.bench(\n",
    "    setup=setup,\n",
    "    n_range=[2 ** k for k in range(20)],\n",
    "    kernels=[numpy_cos, sklearn_cos, scipy_cos],\n",
    "    xlabel=\"len(x)\",\n",
    ")"
   ]
  },
  {
   "cell_type": "code",
   "execution_count": 14,
   "metadata": {},
   "outputs": [
    {
     "name": "stdout",
     "output_type": "stream",
     "text": [
      "(1.4200000000000008e-05, 0.009913000000000002)\n"
     ]
    },
    {
     "data": {
      "image/png": "[encoded data removed]",
      "text/plain": [
       "<Figure size 432x288 with 1 Axes>"
      ]
     },
     "metadata": {
      "needs_background": "dark"
     },
     "output_type": "display_data"
    }
   ],
   "source": [
    "result.show()"
   ]
  },
  {
   "cell_type": "markdown",
   "metadata": {},
   "source": [
    "# Jaccard Similarity"
   ]
  },
  {
   "cell_type": "code",
   "execution_count": 32,
   "metadata": {},
   "outputs": [
    {
     "data": {
      "text/plain": [
       "0.5"
      ]
     },
     "execution_count": 32,
     "metadata": {},
     "output_type": "execute_result"
    }
   ],
   "source": [
    "def jaccard_similarity(list1, list2):\n",
    "    s1 = set(list1)\n",
    "    s2 = set(list2)\n",
    "    return float(len(s1.intersection(s2)) / len(s1.union(s2)))\n",
    "\n",
    "x = [0,1,2,3]\n",
    "y = [1,0,0,1]\n",
    "print(jaccard_similarity(x,y))"
   ]
  },
  {
   "cell_type": "code",
   "execution_count": null,
   "metadata": {},
   "outputs": [],
   "source": []
  }
 ],
 "metadata": {
  "kernelspec": {
   "display_name": "Python 3",
   "language": "python",
   "name": "python3"
  },
  "language_info": {
   "codemirror_mode": {
    "name": "ipython",
    "version": 3
   },
   "file_extension": ".py",
   "mimetype": "text/x-python",
   "name": "python",
   "nbconvert_exporter": "python",
   "pygments_lexer": "ipython3",
   "version": "3.8.3"
  }
 },
 "nbformat": 4,
 "nbformat_minor": 4
}
