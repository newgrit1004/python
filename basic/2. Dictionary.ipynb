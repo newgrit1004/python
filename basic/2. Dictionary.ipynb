{
 "cells": [
  {
   "cell_type": "markdown",
   "metadata": {},
   "source": [
    "### **Dictionary**\n",
    " * Dictionary is an unordered and mutable Python container that stores mappings of unique keys to values.\n",
    " * Dictionary is one of 4 built-in data types(List, Tuple, Set, Dictionary) in Python used to store collections of data.\n",
    " * Dictionary can be initialized by using curly barckets.\n",
    " * The data strcture of dictionary is based on a hash table."
   ]
  },
  {
   "cell_type": "markdown",
   "metadata": {},
   "source": [
    "# Dictionary Initialization\n",
    " * dict()\n",
    " * {key:value}\n",
    " * Duplicated keys are not allowed\n",
    " * Unhashable keys are not allowed"
   ]
  },
  {
   "cell_type": "code",
   "execution_count": 1,
   "metadata": {},
   "outputs": [],
   "source": [
    "age = {'Tom': 19, 'David':20, 'James':30}"
   ]
  },
  {
   "cell_type": "code",
   "execution_count": 2,
   "metadata": {},
   "outputs": [
    {
     "ename": "TypeError",
     "evalue": "unhashable type: 'list'",
     "output_type": "error",
     "traceback": [
      "\u001b[1;31m---------------------------------------------------------------------------\u001b[0m",
      "\u001b[1;31mTypeError\u001b[0m                                 Traceback (most recent call last)",
      "\u001b[1;32m<ipython-input-2-7c908caf0549>\u001b[0m in \u001b[0;36m<module>\u001b[1;34m\u001b[0m\n\u001b[0;32m      1\u001b[0m \u001b[0ma\u001b[0m \u001b[1;33m=\u001b[0m \u001b[1;33m[\u001b[0m\u001b[1;34m'a'\u001b[0m\u001b[1;33m,\u001b[0m \u001b[1;34m'b'\u001b[0m\u001b[1;33m]\u001b[0m\u001b[1;33m\u001b[0m\u001b[1;33m\u001b[0m\u001b[0m\n\u001b[1;32m----> 2\u001b[1;33m \u001b[0mhash\u001b[0m\u001b[1;33m(\u001b[0m\u001b[0ma\u001b[0m\u001b[1;33m)\u001b[0m\u001b[1;33m\u001b[0m\u001b[1;33m\u001b[0m\u001b[0m\n\u001b[0m",
      "\u001b[1;31mTypeError\u001b[0m: unhashable type: 'list'"
     ]
    }
   ],
   "source": [
    "a = ['a', 'b']\n",
    "hash(a)"
   ]
  },
  {
   "cell_type": "code",
   "execution_count": 3,
   "metadata": {},
   "outputs": [
    {
     "ename": "TypeError",
     "evalue": "unhashable type: 'list'",
     "output_type": "error",
     "traceback": [
      "\u001b[1;31m---------------------------------------------------------------------------\u001b[0m",
      "\u001b[1;31mTypeError\u001b[0m                                 Traceback (most recent call last)",
      "\u001b[1;32m<ipython-input-3-2e34b9372fc1>\u001b[0m in \u001b[0;36m<module>\u001b[1;34m\u001b[0m\n\u001b[1;32m----> 1\u001b[1;33m \u001b[0mb\u001b[0m \u001b[1;33m=\u001b[0m \u001b[1;33m{\u001b[0m\u001b[0ma\u001b[0m\u001b[1;33m:\u001b[0m\u001b[1;34m'hi'\u001b[0m\u001b[1;33m}\u001b[0m\u001b[1;33m\u001b[0m\u001b[1;33m\u001b[0m\u001b[0m\n\u001b[0m",
      "\u001b[1;31mTypeError\u001b[0m: unhashable type: 'list'"
     ]
    }
   ],
   "source": [
    "b = {a:'hi'}"
   ]
  },
  {
   "cell_type": "markdown",
   "metadata": {},
   "source": [
    "# insert a value in dict"
   ]
  },
  {
   "cell_type": "code",
   "execution_count": 4,
   "metadata": {},
   "outputs": [
    {
     "name": "stdout",
     "output_type": "stream",
     "text": [
      "{'Tom': 19, 'David': 20, 'James': 30, 'Mary': 25}\n"
     ]
    }
   ],
   "source": [
    "age['Mary'] = 25\n",
    "print(age)"
   ]
  },
  {
   "cell_type": "markdown",
   "metadata": {},
   "source": [
    "# Change a value in dict"
   ]
  },
  {
   "cell_type": "code",
   "execution_count": 5,
   "metadata": {},
   "outputs": [
    {
     "name": "stdout",
     "output_type": "stream",
     "text": [
      "{'Tom': 23, 'David': 20, 'James': 30, 'Mary': 25}\n"
     ]
    }
   ],
   "source": [
    "age['Tom'] = 23\n",
    "print(age)"
   ]
  },
  {
   "cell_type": "markdown",
   "metadata": {},
   "source": [
    "# Delete a value in dict"
   ]
  },
  {
   "cell_type": "code",
   "execution_count": 6,
   "metadata": {},
   "outputs": [
    {
     "name": "stdout",
     "output_type": "stream",
     "text": [
      "{'David': 20, 'James': 30, 'Mary': 25}\n"
     ]
    }
   ],
   "source": [
    "del age['Tom']\n",
    "print(age)"
   ]
  },
  {
   "cell_type": "markdown",
   "metadata": {},
   "source": [
    "# How to check that the key exists in dict"
   ]
  },
  {
   "cell_type": "code",
   "execution_count": 7,
   "metadata": {},
   "outputs": [
    {
     "name": "stdout",
     "output_type": "stream",
     "text": [
      "True\n",
      "False\n"
     ]
    }
   ],
   "source": [
    "print('David' in age)\n",
    "print('hi' in age) # 'hi' is not the key of age."
   ]
  },
  {
   "cell_type": "markdown",
   "metadata": {},
   "source": [
    "# Methods of dict\n",
    " * a.keys() : Return a list containing the keys of dictionary ,return type is dict_keys()\n",
    " * a.values() : Return a list containing the values of dictionary ,return type is dict_values()\n",
    " * a.items() : Return a list containing a tuple for each key-value pair,return type is dict_items()\n",
    " * a.clear() : Remove all the elements in the dictionary\n",
    " * a.copy() : Return a copy of the dicitonary\n",
    " * a.get(key[,x]) : Returns the value of the specified key\n",
    " * a.setdefault(key[,x]) : Return the value of the specified key. If the key does not exist, insert the key with the specified value\n",
    " * a.update(b) : Update the dictionary with the specified key-value pairs\n",
    " * a.popitem() : Remove the last inserted key-value pair\n",
    " * a.pop(key) : Removes the element with the specified key\n",
    " \n",
    " Source : https://www.w3schools.com/python/python_ref_dictionary.asp\n",
    " "
   ]
  },
  {
   "cell_type": "code",
   "execution_count": 8,
   "metadata": {},
   "outputs": [],
   "source": [
    "age = {'Tom': 19, 'David':20, 'James':30}"
   ]
  },
  {
   "cell_type": "code",
   "execution_count": 9,
   "metadata": {},
   "outputs": [
    {
     "name": "stdout",
     "output_type": "stream",
     "text": [
      "dict_keys(['Tom', 'David', 'James'])\n",
      "['Tom', 'David', 'James']\n"
     ]
    }
   ],
   "source": [
    "print(age.keys())\n",
    "print(list(age.keys()))"
   ]
  },
  {
   "cell_type": "code",
   "execution_count": 10,
   "metadata": {},
   "outputs": [
    {
     "name": "stdout",
     "output_type": "stream",
     "text": [
      "dict_values([19, 20, 30])\n",
      "[19, 20, 30]\n"
     ]
    }
   ],
   "source": [
    "print(age.values())\n",
    "print(list(age.values()))"
   ]
  },
  {
   "cell_type": "code",
   "execution_count": 11,
   "metadata": {},
   "outputs": [
    {
     "name": "stdout",
     "output_type": "stream",
     "text": [
      "dict_items([('Tom', 19), ('David', 20), ('James', 30)])\n",
      "[('Tom', 19), ('David', 20), ('James', 30)]\n"
     ]
    }
   ],
   "source": [
    "print(age.items())\n",
    "print(list(age.items()))"
   ]
  },
  {
   "cell_type": "code",
   "execution_count": 12,
   "metadata": {},
   "outputs": [
    {
     "name": "stdout",
     "output_type": "stream",
     "text": [
      "{}\n"
     ]
    }
   ],
   "source": [
    "age.clear()\n",
    "print(age)"
   ]
  },
  {
   "cell_type": "code",
   "execution_count": 13,
   "metadata": {},
   "outputs": [
    {
     "name": "stdout",
     "output_type": "stream",
     "text": [
      "{'Tom': 19, 'David': 20, 'James': 30}\n",
      "1647476537344\n",
      "1647476537280\n"
     ]
    }
   ],
   "source": [
    "age = {'Tom': 19, 'David':20, 'James':30}\n",
    "b = age.copy()\n",
    "print(b)\n",
    "print(id(age))\n",
    "print(id(b))"
   ]
  },
  {
   "cell_type": "code",
   "execution_count": 14,
   "metadata": {},
   "outputs": [
    {
     "name": "stdout",
     "output_type": "stream",
     "text": [
      "19\n",
      "20\n",
      "None\n",
      "0\n"
     ]
    }
   ],
   "source": [
    "print(age.get('Tom'))\n",
    "print(age.get('David'))\n",
    "print(age.get('Lucy'))\n",
    "print(age.get('Lucy', 0)) # get the default value if the key is not in the dict"
   ]
  },
  {
   "cell_type": "code",
   "execution_count": 15,
   "metadata": {},
   "outputs": [
    {
     "name": "stdout",
     "output_type": "stream",
     "text": [
      "{'Tom': 19, 'David': 20, 'James': 30}\n",
      "{'Tom': 19, 'David': 20, 'James': 30}\n",
      "{'Tom': 19, 'David': 20, 'James': 30, 'Lucy': 0}\n"
     ]
    }
   ],
   "source": [
    "print(age)\n",
    "age.setdefault('Tom', 0)\n",
    "print(age)\n",
    "age.setdefault('Lucy', 0) # set the default value if the key is not in the dict\n",
    "print(age)"
   ]
  },
  {
   "cell_type": "code",
   "execution_count": 16,
   "metadata": {},
   "outputs": [
    {
     "name": "stdout",
     "output_type": "stream",
     "text": [
      "{'Tom': 19, 'David': 20, 'James': 30, 'Lucy': 0}\n",
      "{'Tom': 19, 'David': 20, 'James': 30, 'Lucy': 0, 'Kate': 50}\n"
     ]
    }
   ],
   "source": [
    "print(age)\n",
    "age2 = {'Kate':50}\n",
    "age.update(age2)\n",
    "print(age)"
   ]
  },
  {
   "cell_type": "code",
   "execution_count": 17,
   "metadata": {},
   "outputs": [
    {
     "name": "stdout",
     "output_type": "stream",
     "text": [
      "{'Tom': 19, 'David': 20, 'James': 30, 'Lucy': 0, 'Kate': 50}\n",
      "('Kate', 50)\n",
      "{'Tom': 19, 'David': 20, 'James': 30, 'Lucy': 0}\n"
     ]
    }
   ],
   "source": [
    "print(age)\n",
    "b = age.popitem()\n",
    "print(b)\n",
    "print(age)"
   ]
  },
  {
   "cell_type": "code",
   "execution_count": 20,
   "metadata": {},
   "outputs": [
    {
     "name": "stdout",
     "output_type": "stream",
     "text": [
      "{'Tom': 19, 'James': 30, 'Lucy': 0}\n"
     ]
    }
   ],
   "source": [
    "c = age.pop('David')\n",
    "print(age)"
   ]
  },
  {
   "cell_type": "markdown",
   "metadata": {},
   "source": [
    "# Sort the dict"
   ]
  },
  {
   "cell_type": "code",
   "execution_count": 31,
   "metadata": {},
   "outputs": [
    {
     "name": "stdout",
     "output_type": "stream",
     "text": [
      "b\n",
      "b\n",
      "5\n"
     ]
    }
   ],
   "source": [
    "tmp = {'d':1, 'b':5, 'c':3, 'a':2}\n",
    "\n",
    "max_key = max(tmp, key=lambda x : tmp[x])\n",
    "print(max_key)\n",
    "\n",
    "max_key = max(tmp.items(), key=lambda x : x[1])[0]\n",
    "print(max_key)\n",
    "              \n",
    "max_value = max(tmp.values())\n",
    "print(max_value)"
   ]
  },
  {
   "cell_type": "code",
   "execution_count": null,
   "metadata": {},
   "outputs": [],
   "source": []
  }
 ],
 "metadata": {
  "kernelspec": {
   "display_name": "Python 3",
   "language": "python",
   "name": "python3"
  },
  "language_info": {
   "codemirror_mode": {
    "name": "ipython",
    "version": 3
   },
   "file_extension": ".py",
   "mimetype": "text/x-python",
   "name": "python",
   "nbconvert_exporter": "python",
   "pygments_lexer": "ipython3",
   "version": "3.8.3"
  }
 },
 "nbformat": 4,
 "nbformat_minor": 4
}
