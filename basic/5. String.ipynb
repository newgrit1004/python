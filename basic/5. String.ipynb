{
 "cells": [
  {
   "cell_type": "markdown",
   "metadata": {},
   "source": [
    "### **String**\n",
    " * String is a sequence of Unicode characters.\n",
    " * Python strings are immutable.\n",
    " * Adding and multiplying strings are only available in python.\n",
    " * There is no <b>Character</b> type in python."
   ]
  },
  {
   "cell_type": "markdown",
   "metadata": {},
   "source": [
    "# String Initialization\n",
    " * 'values'\n",
    " * \"values\"\n",
    " * '''values'''\n",
    " * \"\"\"values\"\"\"\n",
    " * str('values')"
   ]
  },
  {
   "cell_type": "code",
   "execution_count": 1,
   "metadata": {},
   "outputs": [
    {
     "name": "stdout",
     "output_type": "stream",
     "text": [
      "a\n",
      "b\n",
      "c\n",
      "d\n",
      "e\n"
     ]
    }
   ],
   "source": [
    "str1 = 'a'\n",
    "str2 = \"b\"\n",
    "str3 = '''c'''\n",
    "str4 = \"\"\"d\"\"\"\n",
    "\n",
    "str5 = str('e')\n",
    "\n",
    "print(str1)\n",
    "print(str2)\n",
    "print(str3)\n",
    "print(str4)\n",
    "print(str5)"
   ]
  },
  {
   "cell_type": "code",
   "execution_count": 2,
   "metadata": {},
   "outputs": [
    {
     "ename": "TypeError",
     "evalue": "'str' object does not support item assignment",
     "output_type": "error",
     "traceback": [
      "\u001b[1;31m---------------------------------------------------------------------------\u001b[0m",
      "\u001b[1;31mTypeError\u001b[0m                                 Traceback (most recent call last)",
      "\u001b[1;32m<ipython-input-2-652b202fedc7>\u001b[0m in \u001b[0;36m<module>\u001b[1;34m\u001b[0m\n\u001b[1;32m----> 1\u001b[1;33m \u001b[0mstr1\u001b[0m\u001b[1;33m[\u001b[0m\u001b[1;36m0\u001b[0m\u001b[1;33m]\u001b[0m \u001b[1;33m=\u001b[0m \u001b[1;34m'b'\u001b[0m \u001b[1;31m#Python strings are immutable\u001b[0m\u001b[1;33m\u001b[0m\u001b[1;33m\u001b[0m\u001b[0m\n\u001b[0m",
      "\u001b[1;31mTypeError\u001b[0m: 'str' object does not support item assignment"
     ]
    }
   ],
   "source": [
    "str1[0] = 'b' #Python strings are immutable"
   ]
  },
  {
   "cell_type": "code",
   "execution_count": 3,
   "metadata": {},
   "outputs": [
    {
     "ename": "TypeError",
     "evalue": "'str' object doesn't support item deletion",
     "output_type": "error",
     "traceback": [
      "\u001b[1;31m---------------------------------------------------------------------------\u001b[0m",
      "\u001b[1;31mTypeError\u001b[0m                                 Traceback (most recent call last)",
      "\u001b[1;32m<ipython-input-3-bfbfa11bd3a5>\u001b[0m in \u001b[0;36m<module>\u001b[1;34m\u001b[0m\n\u001b[1;32m----> 1\u001b[1;33m \u001b[1;32mdel\u001b[0m \u001b[0mstr1\u001b[0m\u001b[1;33m[\u001b[0m\u001b[1;36m0\u001b[0m\u001b[1;33m]\u001b[0m \u001b[1;31m#Python strings are immutable\u001b[0m\u001b[1;33m\u001b[0m\u001b[1;33m\u001b[0m\u001b[0m\n\u001b[0m",
      "\u001b[1;31mTypeError\u001b[0m: 'str' object doesn't support item deletion"
     ]
    }
   ],
   "source": [
    "del str1[0] #Python strings are immutable"
   ]
  },
  {
   "cell_type": "code",
   "execution_count": 4,
   "metadata": {},
   "outputs": [
    {
     "ename": "NameError",
     "evalue": "name 'str1' is not defined",
     "output_type": "error",
     "traceback": [
      "\u001b[1;31m---------------------------------------------------------------------------\u001b[0m",
      "\u001b[1;31mNameError\u001b[0m                                 Traceback (most recent call last)",
      "\u001b[1;32m<ipython-input-4-6befdccff631>\u001b[0m in \u001b[0;36m<module>\u001b[1;34m\u001b[0m\n\u001b[0;32m      1\u001b[0m \u001b[1;32mdel\u001b[0m \u001b[0mstr1\u001b[0m \u001b[1;31m#delete the string entirely is possible\u001b[0m\u001b[1;33m\u001b[0m\u001b[1;33m\u001b[0m\u001b[0m\n\u001b[1;32m----> 2\u001b[1;33m \u001b[0mprint\u001b[0m\u001b[1;33m(\u001b[0m\u001b[0mstr1\u001b[0m\u001b[1;33m)\u001b[0m\u001b[1;33m\u001b[0m\u001b[1;33m\u001b[0m\u001b[0m\n\u001b[0m",
      "\u001b[1;31mNameError\u001b[0m: name 'str1' is not defined"
     ]
    }
   ],
   "source": [
    "del str1 #delete the string entirely is possible\n",
    "print(str1)"
   ]
  },
  {
   "cell_type": "code",
   "execution_count": 5,
   "metadata": {},
   "outputs": [
    {
     "name": "stdout",
     "output_type": "stream",
     "text": [
      "<class 'str'>\n",
      "\n"
     ]
    }
   ],
   "source": [
    "str6 = ''\n",
    "print(type(str6))\n",
    "print(str6) #print empty"
   ]
  },
  {
   "cell_type": "markdown",
   "metadata": {},
   "source": [
    "# How to quote a string in python\n",
    " * Use single quotation marks between double quotation marks\n",
    " * Use double quotation marks between single quotation marks"
   ]
  },
  {
   "cell_type": "code",
   "execution_count": 6,
   "metadata": {},
   "outputs": [
    {
     "name": "stdout",
     "output_type": "stream",
     "text": [
      "a'b'c\n",
      "a\"b\"c\n"
     ]
    }
   ],
   "source": [
    "str1 = \"a'b'c\"\n",
    "print(str1)\n",
    "str2 = 'a\"b\"c'\n",
    "print(str2)"
   ]
  },
  {
   "cell_type": "markdown",
   "metadata": {},
   "source": [
    "# String operation in python\n",
    " * add(+) : append one string to another string\n",
    " * multiplication(*) : string * int(N) is possible to repeat the string N times"
   ]
  },
  {
   "cell_type": "code",
   "execution_count": 7,
   "metadata": {},
   "outputs": [
    {
     "name": "stdout",
     "output_type": "stream",
     "text": [
      "ab\n"
     ]
    }
   ],
   "source": [
    "str1 = \"a\"\n",
    "str2 = \"b\"\n",
    "str3 = str1+str2 #add string\n",
    "print(str3)"
   ]
  },
  {
   "cell_type": "code",
   "execution_count": 8,
   "metadata": {},
   "outputs": [
    {
     "name": "stdout",
     "output_type": "stream",
     "text": [
      "aaaaa\n"
     ]
    }
   ],
   "source": [
    "str1 = \"a\"\n",
    "str2 = \"a\" * 5 #multiply string\n",
    "print(str2)"
   ]
  },
  {
   "cell_type": "code",
   "execution_count": 9,
   "metadata": {},
   "outputs": [
    {
     "ename": "TypeError",
     "evalue": "can't multiply sequence by non-int of type 'float'",
     "output_type": "error",
     "traceback": [
      "\u001b[1;31m---------------------------------------------------------------------------\u001b[0m",
      "\u001b[1;31mTypeError\u001b[0m                                 Traceback (most recent call last)",
      "\u001b[1;32m<ipython-input-9-277fa17118b0>\u001b[0m in \u001b[0;36m<module>\u001b[1;34m\u001b[0m\n\u001b[0;32m      1\u001b[0m \u001b[0mstr1\u001b[0m \u001b[1;33m=\u001b[0m \u001b[1;34m\"a\"\u001b[0m\u001b[1;33m\u001b[0m\u001b[1;33m\u001b[0m\u001b[0m\n\u001b[1;32m----> 2\u001b[1;33m \u001b[0mstr2\u001b[0m \u001b[1;33m=\u001b[0m \u001b[1;34m\"a\"\u001b[0m \u001b[1;33m*\u001b[0m \u001b[1;36m5.5\u001b[0m \u001b[1;31m#multiply string\u001b[0m\u001b[1;33m\u001b[0m\u001b[1;33m\u001b[0m\u001b[0m\n\u001b[0m\u001b[0;32m      3\u001b[0m \u001b[0mprint\u001b[0m\u001b[1;33m(\u001b[0m\u001b[0mstr2\u001b[0m\u001b[1;33m)\u001b[0m\u001b[1;33m\u001b[0m\u001b[1;33m\u001b[0m\u001b[0m\n",
      "\u001b[1;31mTypeError\u001b[0m: can't multiply sequence by non-int of type 'float'"
     ]
    }
   ],
   "source": [
    "str1 = \"a\"\n",
    "str2 = \"a\" * 5.5 #multiply string\n",
    "print(str2)"
   ]
  },
  {
   "cell_type": "code",
   "execution_count": 10,
   "metadata": {},
   "outputs": [
    {
     "name": "stdout",
     "output_type": "stream",
     "text": [
      "('a', 'a', 'a', 'a', 'a')\n"
     ]
    }
   ],
   "source": [
    "str1 = \"a\"\n",
    "str2 = (str1,) * 5 # if you want to make the string to be separated\n",
    "print(str2)"
   ]
  },
  {
   "cell_type": "code",
   "execution_count": 11,
   "metadata": {},
   "outputs": [
    {
     "name": "stdout",
     "output_type": "stream",
     "text": [
      "('a', 'coffee', 'a', 'coffee', 'a', 'coffee', 'a', 'coffee', 'a', 'coffee')\n"
     ]
    }
   ],
   "source": [
    "str1 = \"a\"\n",
    "str2 = \"coffee\"\n",
    "str2 = (str1,str2) * 5 # if you want to make the string to be separated\n",
    "print(str2)"
   ]
  },
  {
   "cell_type": "markdown",
   "metadata": {},
   "source": [
    "# Escape sequence in python\n",
    " * \\n : newline\n",
    " * \\t : horitontal tab\n",
    " * \\b : backspace\n",
    " * \\\\\\\\ : character '\\\\'\n",
    " * \\\\' : character '\n",
    " * \\\\\" : character \"\n",
    " * \\xHH : Character with hexadecimal value HH"
   ]
  },
  {
   "cell_type": "code",
   "execution_count": 12,
   "metadata": {},
   "outputs": [
    {
     "name": "stdout",
     "output_type": "stream",
     "text": [
      "a\n",
      "b\n"
     ]
    }
   ],
   "source": [
    "print('a\\nb')"
   ]
  },
  {
   "cell_type": "code",
   "execution_count": 13,
   "metadata": {},
   "outputs": [
    {
     "name": "stdout",
     "output_type": "stream",
     "text": [
      "a\tb\n"
     ]
    }
   ],
   "source": [
    "print('a\\tb')"
   ]
  },
  {
   "cell_type": "code",
   "execution_count": 14,
   "metadata": {},
   "outputs": [
    {
     "name": "stdout",
     "output_type": "stream",
     "text": [
      "a\bb\n"
     ]
    }
   ],
   "source": [
    "print('a\\bb')"
   ]
  },
  {
   "cell_type": "code",
   "execution_count": 15,
   "metadata": {},
   "outputs": [
    {
     "name": "stdout",
     "output_type": "stream",
     "text": [
      "\\\n"
     ]
    }
   ],
   "source": [
    "print('\\\\')"
   ]
  },
  {
   "cell_type": "code",
   "execution_count": 16,
   "metadata": {},
   "outputs": [
    {
     "name": "stdout",
     "output_type": "stream",
     "text": [
      "'\n"
     ]
    }
   ],
   "source": [
    "print('\\'')"
   ]
  },
  {
   "cell_type": "code",
   "execution_count": 17,
   "metadata": {},
   "outputs": [
    {
     "name": "stdout",
     "output_type": "stream",
     "text": [
      "\"\n"
     ]
    }
   ],
   "source": [
    "print(\"\\\"\")"
   ]
  },
  {
   "cell_type": "code",
   "execution_count": 18,
   "metadata": {},
   "outputs": [
    {
     "name": "stdout",
     "output_type": "stream",
     "text": [
      "48\n",
      "45\n",
      "58\n",
      "HEX\n"
     ]
    }
   ],
   "source": [
    "print(format(ord('H'), 'x'))\n",
    "print(format(ord('E'), 'x'))\n",
    "print(format(ord('X'), 'x'))\n",
    "print(\"\\x48\\x45\\x58\")"
   ]
  },
  {
   "cell_type": "markdown",
   "metadata": {},
   "source": [
    "# Using backslash(\\) in python\n",
    " * raw string : usually useful for path in Windows due to '\\\\'\n",
    " * print multiple line"
   ]
  },
  {
   "cell_type": "code",
   "execution_count": 19,
   "metadata": {},
   "outputs": [
    {
     "name": "stdout",
     "output_type": "stream",
     "text": [
      "C:\\Program Files\n"
     ]
    }
   ],
   "source": [
    "path = r'C:\\Program Files'\n",
    "print(path)"
   ]
  },
  {
   "cell_type": "code",
   "execution_count": 20,
   "metadata": {},
   "outputs": [
    {
     "name": "stdout",
     "output_type": "stream",
     "text": [
      "\n",
      "a\n",
      "b\n",
      "c\n",
      "\n"
     ]
    }
   ],
   "source": [
    "multiline = \\\n",
    "\"\"\"\n",
    "a\n",
    "b\n",
    "c\n",
    "\"\"\"\n",
    "print(multiline)"
   ]
  },
  {
   "cell_type": "markdown",
   "metadata": {},
   "source": [
    "# Check if a substring exists in a string"
   ]
  },
  {
   "cell_type": "code",
   "execution_count": 21,
   "metadata": {},
   "outputs": [
    {
     "data": {
      "text/plain": [
       "True"
      ]
     },
     "execution_count": 21,
     "metadata": {},
     "output_type": "execute_result"
    }
   ],
   "source": [
    "'b' in 'banana'"
   ]
  },
  {
   "cell_type": "code",
   "execution_count": 22,
   "metadata": {},
   "outputs": [
    {
     "data": {
      "text/plain": [
       "False"
      ]
     },
     "execution_count": 22,
     "metadata": {},
     "output_type": "execute_result"
    }
   ],
   "source": [
    "'b' not in 'banana'"
   ]
  },
  {
   "cell_type": "markdown",
   "metadata": {},
   "source": [
    "# String Slicing\n",
    " * Same to list slicing\n",
    " * a[i] : return the ith index item in string 'a'. i can be a negative number. e.g. a[-1] : the last element in string 'a'\n",
    " * a[start:end:step] : \n",
    "     \n",
    "     start(optional) : starting index value of slicing. default start value is 0.\n",
    "     \n",
    "     end : last index value until which the slicing takes place slicing.\n",
    "     \n",
    "     step(optional) : index value steps between each index for slicing. default step value is 1."
   ]
  },
  {
   "cell_type": "code",
   "execution_count": 23,
   "metadata": {},
   "outputs": [
    {
     "name": "stdout",
     "output_type": "stream",
     "text": [
      "a\n",
      "h\n",
      "abc\n",
      "aceg\n"
     ]
    }
   ],
   "source": [
    "str1 = 'abcdefgh'\n",
    "\n",
    "print(str1[0])\n",
    "print(str1[-1])\n",
    "print(str1[0:3])\n",
    "print(str1[0:-1:2])"
   ]
  },
  {
   "cell_type": "markdown",
   "metadata": {},
   "source": [
    "# String Formatting(using %, old version)\n",
    " * %d : integer\n",
    " * %f : float\n",
    " * %c : character\n",
    " * %s : string\n",
    " * %o : Octal number\n",
    " * %x : hexadecimal number"
   ]
  },
  {
   "cell_type": "code",
   "execution_count": 24,
   "metadata": {},
   "outputs": [
    {
     "name": "stdout",
     "output_type": "stream",
     "text": [
      "1\n"
     ]
    }
   ],
   "source": [
    "a = 1\n",
    "print(\"%d\"%a)"
   ]
  },
  {
   "cell_type": "code",
   "execution_count": 25,
   "metadata": {},
   "outputs": [
    {
     "name": "stdout",
     "output_type": "stream",
     "text": [
      "1.500000\n"
     ]
    }
   ],
   "source": [
    "a = 1.5\n",
    "print(\"%f\"%a)"
   ]
  },
  {
   "cell_type": "code",
   "execution_count": 26,
   "metadata": {},
   "outputs": [
    {
     "name": "stdout",
     "output_type": "stream",
     "text": [
      "my id is 1 and your id is 2.000000\n"
     ]
    }
   ],
   "source": [
    "a = 1\n",
    "b = 2\n",
    "print(\"my id is %d and your id is %f\"%(a,b))"
   ]
  },
  {
   "cell_type": "code",
   "execution_count": 27,
   "metadata": {},
   "outputs": [
    {
     "ename": "TypeError",
     "evalue": "%c requires int or char",
     "output_type": "error",
     "traceback": [
      "\u001b[1;31m---------------------------------------------------------------------------\u001b[0m",
      "\u001b[1;31mTypeError\u001b[0m                                 Traceback (most recent call last)",
      "\u001b[1;32m<ipython-input-27-efe0903b7b79>\u001b[0m in \u001b[0;36m<module>\u001b[1;34m\u001b[0m\n\u001b[0;32m      1\u001b[0m \u001b[0ma\u001b[0m \u001b[1;33m=\u001b[0m \u001b[1;34m'1.5'\u001b[0m\u001b[1;33m\u001b[0m\u001b[1;33m\u001b[0m\u001b[0m\n\u001b[1;32m----> 2\u001b[1;33m \u001b[0mprint\u001b[0m\u001b[1;33m(\u001b[0m\u001b[1;34m\"%c\"\u001b[0m\u001b[1;33m%\u001b[0m\u001b[0ma\u001b[0m\u001b[1;33m)\u001b[0m\u001b[1;33m\u001b[0m\u001b[1;33m\u001b[0m\u001b[0m\n\u001b[0m",
      "\u001b[1;31mTypeError\u001b[0m: %c requires int or char"
     ]
    }
   ],
   "source": [
    "a = '1.5'\n",
    "print(\"%c\"%a)"
   ]
  },
  {
   "cell_type": "code",
   "execution_count": 28,
   "metadata": {},
   "outputs": [
    {
     "name": "stdout",
     "output_type": "stream",
     "text": [
      "1\n"
     ]
    }
   ],
   "source": [
    "a = '1'\n",
    "print(\"%c\"%a)"
   ]
  },
  {
   "cell_type": "code",
   "execution_count": 29,
   "metadata": {},
   "outputs": [
    {
     "name": "stdout",
     "output_type": "stream",
     "text": [
      "1.5\n"
     ]
    }
   ],
   "source": [
    "a = '1.5'\n",
    "print(\"%s\"%a)"
   ]
  },
  {
   "cell_type": "code",
   "execution_count": 30,
   "metadata": {},
   "outputs": [
    {
     "name": "stdout",
     "output_type": "stream",
     "text": [
      "10\n"
     ]
    }
   ],
   "source": [
    "a = 8\n",
    "print(\"%o\"%a)"
   ]
  },
  {
   "cell_type": "code",
   "execution_count": 31,
   "metadata": {},
   "outputs": [
    {
     "name": "stdout",
     "output_type": "stream",
     "text": [
      "10\n"
     ]
    }
   ],
   "source": [
    "a = 16\n",
    "print(\"%x\"%a)"
   ]
  },
  {
   "cell_type": "markdown",
   "metadata": {},
   "source": [
    "# String Formatting(str.format)\n",
    " * positional parameters : access with {index}\n",
    " * keyword parameters : if key=value, access with {key}"
   ]
  },
  {
   "cell_type": "code",
   "execution_count": 32,
   "metadata": {},
   "outputs": [
    {
     "name": "stdout",
     "output_type": "stream",
     "text": [
      "my id is 1 and my name is Lisa\n",
      "my id is 1 and my name is Lisa\n",
      "my id is Lisa and my name is 1\n",
      "my id is 1 and my name is Lisa\n"
     ]
    }
   ],
   "source": [
    "print(\"my id is {} and my name is {}\".format(1, \"Lisa\")) #default\n",
    "print(\"my id is {0} and my name is {1}\".format(1, \"Lisa\")) #positional parameters\n",
    "print(\"my id is {1} and my name is {0}\".format(1, \"Lisa\")) #positional parameters\n",
    "print(\"my id is {num} and my name is {name}\".format(name=\"Lisa\", num=1)) # keyword parameters\n"
   ]
  },
  {
   "cell_type": "code",
   "execution_count": 33,
   "metadata": {},
   "outputs": [
    {
     "name": "stdout",
     "output_type": "stream",
     "text": [
      "int :12\n",
      "float :123.456000\n",
      "bin: 100000, oct: 40, hex: 20\n"
     ]
    }
   ],
   "source": [
    "print(\"int :{:d}\".format(12)) # integer arguments\n",
    "print(\"float :{:f}\".format(123.456)) # float arguments\n",
    "print(\"bin: {0:b}, oct: {0:o}, hex: {0:x}\".format(32)) # octal, binary and hexadecimal format"
   ]
  },
  {
   "cell_type": "code",
   "execution_count": 34,
   "metadata": {},
   "outputs": [
    {
     "name": "stdout",
     "output_type": "stream",
     "text": [
      "Current Time : 2022/03/12 14:00:00\n"
     ]
    }
   ],
   "source": [
    "from datetime import datetime\n",
    "date = datetime(2022,3,12,14,0,0)\n",
    "print(\"Current Time : {:%Y/%m/%d %H:%M:%S}\".format(date)) #datetime formatting"
   ]
  },
  {
   "cell_type": "markdown",
   "metadata": {},
   "source": [
    "# String Formatting(f-string)\n",
    " * Literal String Interpolation\n",
    " * the newest string formatting method(available after python 3.6)\n",
    " * f'string {varaible} string'\n",
    " * the best readability formatting method in python"
   ]
  },
  {
   "cell_type": "code",
   "execution_count": 35,
   "metadata": {},
   "outputs": [
    {
     "name": "stdout",
     "output_type": "stream",
     "text": [
      "my id is 1 and my name is Lisa\n"
     ]
    }
   ],
   "source": [
    "num = 1\n",
    "name = 'Lisa'\n",
    "print(f\"my id is {num} and my name is {name}\")"
   ]
  },
  {
   "cell_type": "code",
   "execution_count": 36,
   "metadata": {},
   "outputs": [
    {
     "name": "stdout",
     "output_type": "stream",
     "text": [
      "int :32\n",
      "float :32.000000\n",
      "bin: 100000, oct: 40, hex: 20\n"
     ]
    }
   ],
   "source": [
    "num = 32\n",
    "print(f\"int :{num:d}\") # integer arguments\n",
    "print(f\"float :{num:f}\") # float arguments\n",
    "print(f\"bin: {num:b}, oct: {num:o}, hex: {num:x}\") # octal, binary and hexadecimal format"
   ]
  },
  {
   "cell_type": "code",
   "execution_count": 37,
   "metadata": {},
   "outputs": [
    {
     "name": "stdout",
     "output_type": "stream",
     "text": [
      "Current Time :2022/03/12 14:00:00, Saturday\n"
     ]
    }
   ],
   "source": [
    "date = datetime(2022,3,12,14,0,0)\n",
    "print(f\"Current Time :{date:%Y/%m/%d %H:%M:%S}, {date:%A}\")"
   ]
  },
  {
   "cell_type": "markdown",
   "metadata": {},
   "source": [
    "# String method\n",
    " * Source : https://www.w3schools.com/python/python_ref_string.asp\n",
    " * <b>All string methods returns new values.</b>\n",
    " * join() : converts iterable elements into a string\n",
    " * split() : splits the string at the specified separator and returns a list\n",
    " * strip() : returns a trimmed version of the string\n",
    " * lstrip() : returns a left trim version of the string\n",
    " * rstrip() : returns a right trim version of the string\n",
    " * replace() : returns a string where a specified value is replaced with a specified value\n",
    " * count() : returns the number of times a specified value occurs in a string\n",
    " * find() : searches the string for a specified value and returns the position of where it was found\n",
    " * index() : searches the string for a specified value and returns the position of where it was found\n",
    " * isalpha() : \treturns True if all characters in the string are in the alphabet\n",
    " * isalnum() : returns True if all characters in the string are alphanumeric\n",
    " * isnumeric() : returns True if all characters in the string are numeric\n",
    " * lower() : converts a string into lower case\n",
    " * upper() : converts a string into upper case "
   ]
  },
  {
   "cell_type": "code",
   "execution_count": 38,
   "metadata": {},
   "outputs": [
    {
     "name": "stdout",
     "output_type": "stream",
     "text": [
      "abc\n",
      "a,b,c\n",
      "abcdefghi\n",
      "abc,def,ghi\n",
      "abc\n",
      "def\n",
      "ghi\n"
     ]
    }
   ],
   "source": [
    "#join()\n",
    "str1 = 'abc'\n",
    "str2 = 'def'\n",
    "str3 = 'ghi'\n",
    "print(''.join(str1))\n",
    "print(','.join(str1))\n",
    "print(''.join((str1, str2, str3)))\n",
    "print(','.join((str1, str2, str3)))\n",
    "print('\\n'.join((str1, str2, str3)))"
   ]
  },
  {
   "cell_type": "code",
   "execution_count": 39,
   "metadata": {},
   "outputs": [
    {
     "name": "stdout",
     "output_type": "stream",
     "text": [
      "['a', 'b', 'c', 'd', 'e']\n",
      "['a', 'b', 'c', 'd', 'e']\n",
      "['a', 'b', 'c', 'd', 'e']\n",
      "['a', 'b', 'c', 'd', 'e']\n"
     ]
    }
   ],
   "source": [
    "#split()\n",
    "str1 = 'a b c d e'\n",
    "str2 = 'a,b,c,d,e'\n",
    "str3 = 'a-b-c-d-e'\n",
    "print(str1.split())\n",
    "print(str1.split(' '))\n",
    "print(str2.split(','))\n",
    "print(str3.split('-'))"
   ]
  },
  {
   "cell_type": "code",
   "execution_count": 40,
   "metadata": {},
   "outputs": [
    {
     "name": "stdout",
     "output_type": "stream",
     "text": [
      "a b c d ef\n",
      "a b c d e   \n",
      " a b c d ef\n"
     ]
    }
   ],
   "source": [
    "#strip(), lstrip(), rstrip()\n",
    "\n",
    "str1 = ' a b c d e   '\n",
    "print(str1.strip() + 'f') #\n",
    "print(str1.lstrip())\n",
    "print(str1.rstrip() + 'f')\n"
   ]
  },
  {
   "cell_type": "code",
   "execution_count": 41,
   "metadata": {},
   "outputs": [
    {
     "name": "stdout",
     "output_type": "stream",
     "text": [
      "my id is 20\n"
     ]
    }
   ],
   "source": [
    "# replace()\n",
    "str1 = 'my id is 10'\n",
    "str1 = str1.replace('10', '20')\n",
    "print(str1)\n"
   ]
  },
  {
   "cell_type": "code",
   "execution_count": 42,
   "metadata": {},
   "outputs": [
    {
     "name": "stdout",
     "output_type": "stream",
     "text": [
      "3\n"
     ]
    }
   ],
   "source": [
    "# count()\n",
    "str1 = 'banana'\n",
    "print(str1.count('a'))"
   ]
  },
  {
   "cell_type": "code",
   "execution_count": 43,
   "metadata": {},
   "outputs": [
    {
     "name": "stdout",
     "output_type": "stream",
     "text": [
      "1\n",
      "0\n",
      "-1\n"
     ]
    }
   ],
   "source": [
    "# find()\n",
    "str1 = 'banana'\n",
    "print(str1.find('a'))\n",
    "print(str1.find('b'))\n",
    "print(str1.find('c'))\n"
   ]
  },
  {
   "cell_type": "code",
   "execution_count": 44,
   "metadata": {},
   "outputs": [
    {
     "name": "stdout",
     "output_type": "stream",
     "text": [
      "1\n",
      "0\n"
     ]
    },
    {
     "ename": "ValueError",
     "evalue": "substring not found",
     "output_type": "error",
     "traceback": [
      "\u001b[1;31m---------------------------------------------------------------------------\u001b[0m",
      "\u001b[1;31mValueError\u001b[0m                                Traceback (most recent call last)",
      "\u001b[1;32m<ipython-input-44-4eeb81df9662>\u001b[0m in \u001b[0;36m<module>\u001b[1;34m\u001b[0m\n\u001b[0;32m      2\u001b[0m \u001b[0mprint\u001b[0m\u001b[1;33m(\u001b[0m\u001b[0mstr1\u001b[0m\u001b[1;33m.\u001b[0m\u001b[0mindex\u001b[0m\u001b[1;33m(\u001b[0m\u001b[1;34m'a'\u001b[0m\u001b[1;33m)\u001b[0m\u001b[1;33m)\u001b[0m\u001b[1;33m\u001b[0m\u001b[1;33m\u001b[0m\u001b[0m\n\u001b[0;32m      3\u001b[0m \u001b[0mprint\u001b[0m\u001b[1;33m(\u001b[0m\u001b[0mstr1\u001b[0m\u001b[1;33m.\u001b[0m\u001b[0mindex\u001b[0m\u001b[1;33m(\u001b[0m\u001b[1;34m'b'\u001b[0m\u001b[1;33m)\u001b[0m\u001b[1;33m)\u001b[0m\u001b[1;33m\u001b[0m\u001b[1;33m\u001b[0m\u001b[0m\n\u001b[1;32m----> 4\u001b[1;33m \u001b[0mprint\u001b[0m\u001b[1;33m(\u001b[0m\u001b[0mstr1\u001b[0m\u001b[1;33m.\u001b[0m\u001b[0mindex\u001b[0m\u001b[1;33m(\u001b[0m\u001b[1;34m'c'\u001b[0m\u001b[1;33m)\u001b[0m\u001b[1;33m)\u001b[0m\u001b[1;33m\u001b[0m\u001b[1;33m\u001b[0m\u001b[0m\n\u001b[0m",
      "\u001b[1;31mValueError\u001b[0m: substring not found"
     ]
    }
   ],
   "source": [
    "#index()\n",
    "print(str1.index('a'))\n",
    "print(str1.index('b'))\n",
    "print(str1.index('c'))"
   ]
  },
  {
   "cell_type": "code",
   "execution_count": 45,
   "metadata": {},
   "outputs": [
    {
     "name": "stdout",
     "output_type": "stream",
     "text": [
      "isalpha()\n",
      "abc, True\n",
      "123, False\n",
      "a1, False\n",
      "--, False\n",
      "isalnum()\n",
      "abc, True\n",
      "123, True\n",
      "a1, True\n",
      "--, False\n",
      "isnumeric()\n",
      "abc, False\n",
      "123, True\n",
      "a1, False\n",
      "--, False\n"
     ]
    }
   ],
   "source": [
    "# isalpha(), isalnum(), isnumeric()\n",
    "print('isalpha()')\n",
    "str1 = 'abc'\n",
    "print(f'{str1}, {str1.isalpha()}')\n",
    "str1 = '123'\n",
    "print(f'{str1}, {str1.isalpha()}')\n",
    "str1 = 'a1'\n",
    "print(f'{str1}, {str1.isalpha()}')\n",
    "str1 = '--'\n",
    "print(f'{str1}, {str1.isalpha()}')\n",
    "\n",
    "print('isalnum()')\n",
    "str1 = 'abc'\n",
    "print(f'{str1}, {str1.isalnum()}')\n",
    "str1 = '123'\n",
    "print(f'{str1}, {str1.isalnum()}')\n",
    "str1 = 'a1'\n",
    "print(f'{str1}, {str1.isalnum()}')\n",
    "str1 = '--'\n",
    "print(f'{str1}, {str1.isalnum()}')\n",
    "\n",
    "print('isnumeric()')\n",
    "str1 = 'abc'\n",
    "print(f'{str1}, {str1.isnumeric()}')\n",
    "str1 = '123'\n",
    "print(f'{str1}, {str1.isnumeric()}')\n",
    "str1 = 'a1'\n",
    "print(f'{str1}, {str1.isnumeric()}')\n",
    "str1 = '--'\n",
    "print(f'{str1}, {str1.isnumeric()}')"
   ]
  },
  {
   "cell_type": "code",
   "execution_count": 46,
   "metadata": {},
   "outputs": [
    {
     "name": "stdout",
     "output_type": "stream",
     "text": [
      "abcdefg\n",
      "ABCDEFG\n"
     ]
    }
   ],
   "source": [
    "#lower(), upper() \n",
    "str1 = 'ABCdeFG'\n",
    "print(str1.lower())\n",
    "str1 = 'ABCdeFG'\n",
    "print(str1.upper())"
   ]
  },
  {
   "cell_type": "code",
   "execution_count": null,
   "metadata": {},
   "outputs": [],
   "source": []
  }
 ],
 "metadata": {
  "kernelspec": {
   "display_name": "Python 3",
   "language": "python",
   "name": "python3"
  },
  "language_info": {
   "codemirror_mode": {
    "name": "ipython",
    "version": 3
   },
   "file_extension": ".py",
   "mimetype": "text/x-python",
   "name": "python",
   "nbconvert_exporter": "python",
   "pygments_lexer": "ipython3",
   "version": "3.8.3"
  }
 },
 "nbformat": 4,
 "nbformat_minor": 4
}
