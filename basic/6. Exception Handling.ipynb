{
 "cells": [
  {
   "cell_type": "markdown",
   "metadata": {},
   "source": [
    "### **Exception Handling**\n",
    " * try block : a block for testing code to check if an error occurs or does not occur.\n",
    " * except block : a block of code will be excuted when the error occurs.\n",
    " * else block :  a block of code will be excuted when the error does not occur.\n",
    " * finally block : a block of code will always be executed regardless of the error."
   ]
  },
  {
   "cell_type": "markdown",
   "metadata": {},
   "source": [
    "# When there is no error in the try block"
   ]
  },
  {
   "cell_type": "code",
   "execution_count": 1,
   "metadata": {},
   "outputs": [
    {
     "name": "stdout",
     "output_type": "stream",
     "text": [
      "Hi\n",
      "Else block is excuted when the error does not occur\n",
      "finally block is always executed\n"
     ]
    }
   ],
   "source": [
    "try:\n",
    "    print(\"Hi\")\n",
    "except:\n",
    "    print(\"Except block is excuted when the error occurs\")\n",
    "else:\n",
    "    print(\"Else block is excuted when the error does not occur\")\n",
    "finally:\n",
    "    print(\"finally block is always executed\")"
   ]
  },
  {
   "cell_type": "markdown",
   "metadata": {},
   "source": [
    "# When there is an error in the try block"
   ]
  },
  {
   "cell_type": "code",
   "execution_count": 2,
   "metadata": {},
   "outputs": [
    {
     "name": "stdout",
     "output_type": "stream",
     "text": [
      "Except block is excuted when the error occurs\n",
      "finally block is always executed\n"
     ]
    }
   ],
   "source": [
    "try:\n",
    "    a = 1/0\n",
    "except:\n",
    "    print(\"Except block is excuted when the error occurs\")\n",
    "else:\n",
    "    print(\"Else block is excuted when the error does not occur\")\n",
    "finally:\n",
    "    print(\"finally block is always executed\")"
   ]
  },
  {
   "cell_type": "markdown",
   "metadata": {},
   "source": [
    "# Catch the specific exception"
   ]
  },
  {
   "cell_type": "code",
   "execution_count": 3,
   "metadata": {},
   "outputs": [
    {
     "name": "stdout",
     "output_type": "stream",
     "text": [
      "KeyError occurs\n",
      "finally block is always executed\n"
     ]
    }
   ],
   "source": [
    "test = dict()\n",
    "test[1] = 10\n",
    "\n",
    "try:\n",
    "    test[2] = test[1] + test[3]\n",
    "    \n",
    "except ZeroDivisionError:\n",
    "    print(\"ZeroDivisionError occurs\")\n",
    "except KeyError:\n",
    "    print(\"KeyError occurs\")\n",
    "except:\n",
    "    print(\"Other kinds of error occurs\")\n",
    "else:\n",
    "    print(\"Else block is excuted when the error does not occur\")\n",
    "finally:\n",
    "    print(\"finally block is always executed\")"
   ]
  },
  {
   "cell_type": "code",
   "execution_count": 4,
   "metadata": {},
   "outputs": [
    {
     "name": "stdout",
     "output_type": "stream",
     "text": [
      "division by zero occurs\n",
      "finally block is always executed\n"
     ]
    }
   ],
   "source": [
    "try:\n",
    "    test[1] = test[1]/0\n",
    "    \n",
    "except ZeroDivisionError as e: # save error message\n",
    "    print(f\"{e} occurs\") #print saved error message\n",
    "except KeyError as e:\n",
    "    print(f\"{e} occurs\")\n",
    "except:\n",
    "    print(\"Other kinds of error occurs\")\n",
    "else:\n",
    "    print(\"Else block is excuted when the error does not occur\")\n",
    "finally:\n",
    "    print(\"finally block is always executed\")"
   ]
  },
  {
   "cell_type": "markdown",
   "metadata": {},
   "source": [
    "# Print python exception using traceback"
   ]
  },
  {
   "cell_type": "code",
   "execution_count": 5,
   "metadata": {},
   "outputs": [
    {
     "name": "stderr",
     "output_type": "stream",
     "text": [
      "Traceback (most recent call last):\n",
      "  File \"C:\\Users\\customer\\AppData\\Local\\Temp/ipykernel_18372/1028003572.py\", line 4, in <module>\n",
      "    a /= 0\n",
      "NameError: name 'a' is not defined\n"
     ]
    }
   ],
   "source": [
    "import traceback\n",
    "\n",
    "try:\n",
    "    a /= 0\n",
    "except Exception as e:\n",
    "    traceback.print_exc()"
   ]
  },
  {
   "cell_type": "markdown",
   "metadata": {},
   "source": [
    "# try-except + logging"
   ]
  },
  {
   "cell_type": "code",
   "execution_count": 6,
   "metadata": {},
   "outputs": [
    {
     "name": "stderr",
     "output_type": "stream",
     "text": [
      "ERROR:root:Traceback (most recent call last):\n",
      "  File \"C:\\Users\\customer\\AppData\\Local\\Temp/ipykernel_18372/2944439235.py\", line 5, in <module>\n",
      "    a /= 0\n",
      "NameError: name 'a' is not defined\n",
      "\n"
     ]
    }
   ],
   "source": [
    "import traceback\n",
    "import logging\n",
    "\n",
    "try:\n",
    "    a /= 0\n",
    "except Exception as e:\n",
    "    logging.error(traceback.format_exc()) #logging"
   ]
  },
  {
   "cell_type": "markdown",
   "metadata": {},
   "source": [
    "# Define Custom Exception Handling Class"
   ]
  },
  {
   "cell_type": "code",
   "execution_count": 7,
   "metadata": {},
   "outputs": [
    {
     "ename": "CustomError",
     "evalue": "Print Custom Error",
     "output_type": "error",
     "traceback": [
      "\u001b[1;31m---------------------------------------------------------------------------\u001b[0m",
      "\u001b[1;31mCustomError\u001b[0m                               Traceback (most recent call last)",
      "\u001b[1;32m~\\AppData\\Local\\Temp/ipykernel_18372/951197806.py\u001b[0m in \u001b[0;36m<module>\u001b[1;34m\u001b[0m\n\u001b[0;32m      4\u001b[0m \u001b[1;33m\u001b[0m\u001b[0m\n\u001b[0;32m      5\u001b[0m \u001b[0mmessage\u001b[0m \u001b[1;33m=\u001b[0m \u001b[1;34m'Print Custom Error'\u001b[0m\u001b[1;33m\u001b[0m\u001b[1;33m\u001b[0m\u001b[0m\n\u001b[1;32m----> 6\u001b[1;33m \u001b[1;32mraise\u001b[0m \u001b[0mCustomError\u001b[0m\u001b[1;33m(\u001b[0m\u001b[0mmessage\u001b[0m\u001b[1;33m)\u001b[0m\u001b[1;33m\u001b[0m\u001b[1;33m\u001b[0m\u001b[0m\n\u001b[0m",
      "\u001b[1;31mCustomError\u001b[0m: Print Custom Error"
     ]
    }
   ],
   "source": [
    "class CustomError(Exception):\n",
    "    def __init__(self, msg):\n",
    "        super().__init__(msg) #print msg using inherited method\n",
    "\n",
    "message = 'Print Custom Error'\n",
    "raise CustomError(message)"
   ]
  },
  {
   "cell_type": "code",
   "execution_count": 8,
   "metadata": {},
   "outputs": [
    {
     "name": "stdout",
     "output_type": "stream",
     "text": [
      "123\n",
      "Code has successfully been executed.\n"
     ]
    }
   ],
   "source": [
    "class NumberException(Exception):\n",
    "    def __init__(self, message, value):\n",
    "        message = f'{value} is not a number'\n",
    "        super().__init__(message)\n",
    "        \n",
    "message = \"Exception occured.\"\n",
    "\n",
    "def checkdigit(num):\n",
    "    if (not num.isdigit()):\n",
    "        raise NumberException(message, num)\n",
    "    else:\n",
    "        print(num)\n",
    "\n",
    "num = \"123\"\n",
    "try:\n",
    "    checkdigit(num)\n",
    "    print(\"Code has successfully been executed.\")\n",
    "except NumberException:\n",
    "    print(num+\" is not a number.\")"
   ]
  },
  {
   "cell_type": "code",
   "execution_count": 9,
   "metadata": {},
   "outputs": [
    {
     "name": "stdout",
     "output_type": "stream",
     "text": [
      "abc is not a number.\n"
     ]
    }
   ],
   "source": [
    "num = \"abc\"\n",
    "try:\n",
    "    checkdigit(num)\n",
    "    print(\"Code has successfully been executed.\")\n",
    "except NumberException:\n",
    "    print(num+\" is not a number.\")"
   ]
  },
  {
   "cell_type": "markdown",
   "metadata": {},
   "source": [
    "### **built-in exception(no description coz too many exceptions)**\n",
    " * AssertionError\n",
    " * AttributeError\n",
    " * EOFError\n",
    " * FloatingPointError\n",
    " * GeneratorExit\n",
    " * ImportError\n",
    " * IndexError\n",
    " * KeyError\n",
    " * KeyboardInterrupt\n",
    " * MemoryError\n",
    " * NameError\n",
    " * NotImplementedError\n",
    " * OSError\n",
    " * OverflowError\n",
    " * ReferenceError\n",
    " * RuntimeError\n",
    " * StopIteration\n",
    " * SyntaxError\n",
    " * IndentationError\n",
    " * TabError\n",
    " * SystemError\n",
    " * SystemExit\n",
    " * TypeError\n",
    " * UnboundLocalError\n",
    " * UnicodeError\n",
    " * UnicodeEncodeError\n",
    " * UnicodeDecodeError\n",
    " * UnicodeTranslateError\n",
    " * ValueError\n",
    " * ZeroDivisionError"
   ]
  },
  {
   "cell_type": "markdown",
   "metadata": {},
   "source": [
    "### **Compare assert and raise**\n",
    " * assert : good usage for unittest or debugging. If __debug__ is False, assert doesn't work. \n",
    " * raise : good usage for service code"
   ]
  },
  {
   "cell_type": "code",
   "execution_count": 1,
   "metadata": {},
   "outputs": [
    {
     "ename": "AssertionError",
     "evalue": "a is 1",
     "output_type": "error",
     "traceback": [
      "\u001b[1;31m---------------------------------------------------------------------------\u001b[0m",
      "\u001b[1;31mAssertionError\u001b[0m                            Traceback (most recent call last)",
      "\u001b[1;32m~\\AppData\\Local\\Temp/ipykernel_30048/4271407540.py\u001b[0m in \u001b[0;36m<module>\u001b[1;34m\u001b[0m\n\u001b[0;32m      1\u001b[0m \u001b[0ma\u001b[0m \u001b[1;33m=\u001b[0m \u001b[1;36m1\u001b[0m\u001b[1;33m\u001b[0m\u001b[1;33m\u001b[0m\u001b[0m\n\u001b[1;32m----> 2\u001b[1;33m \u001b[1;32massert\u001b[0m \u001b[0ma\u001b[0m \u001b[1;33m==\u001b[0m \u001b[1;36m2\u001b[0m\u001b[1;33m,\u001b[0m \u001b[1;34m\"a is 1\"\u001b[0m\u001b[1;33m\u001b[0m\u001b[1;33m\u001b[0m\u001b[0m\n\u001b[0m",
      "\u001b[1;31mAssertionError\u001b[0m: a is 1"
     ]
    }
   ],
   "source": [
    "a = 1\n",
    "assert a == 2, \"a is 1\""
   ]
  }
 ],
 "metadata": {
  "kernelspec": {
   "display_name": "Python 3 (ipykernel)",
   "language": "python",
   "name": "python3"
  },
  "language_info": {
   "codemirror_mode": {
    "name": "ipython",
    "version": 3
   },
   "file_extension": ".py",
   "mimetype": "text/x-python",
   "name": "python",
   "nbconvert_exporter": "python",
   "pygments_lexer": "ipython3",
   "version": "3.9.7"
  }
 },
 "nbformat": 4,
 "nbformat_minor": 4
}
