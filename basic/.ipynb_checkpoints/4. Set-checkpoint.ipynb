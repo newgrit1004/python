{
 "cells": [
  {
   "cell_type": "markdown",
   "metadata": {},
   "source": [
    "### **Set**\n",
    " * Dictionary is an unordered and mutable Python container that stores mappings of unique keys to values.\n",
    " * Dictionary is one of 4 built-in data types(List, Tuple, Set, Dictionary) in Python used to store collections of data.\n",
    " * Dictionary can be initialized by using curly barckets.\n",
    " * The data strcture of dictionary is based on a hash table."
   ]
  },
  {
   "cell_type": "code",
   "execution_count": null,
   "metadata": {},
   "outputs": [],
   "source": []
  }
 ],
 "metadata": {
  "kernelspec": {
   "display_name": "Python 3",
   "language": "python",
   "name": "python3"
  },
  "language_info": {
   "codemirror_mode": {
    "name": "ipython",
    "version": 3
   },
   "file_extension": ".py",
   "mimetype": "text/x-python",
   "name": "python",
   "nbconvert_exporter": "python",
   "pygments_lexer": "ipython3",
   "version": "3.8.3"
  }
 },
 "nbformat": 4,
 "nbformat_minor": 4
}
