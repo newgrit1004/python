{
 "cells": [
  {
   "cell_type": "markdown",
   "metadata": {},
   "source": [
    "### **List**\n",
    " * List is an ordered and changeable collection of data objects.\n",
    " * List is one of 4 built-in data types(List, Tuple, Set, Dictionary) in Python used to store collections of data.\n",
    " * List can have different types of objects unlike an array.\n",
    " * List is one of mutable objects, so it works as call by reference.\n",
    " * List can have duplicated values."
   ]
  },
  {
   "cell_type": "markdown",
   "metadata": {},
   "source": [
    "### **List Initialization** \n",
    " * [values]\n",
    " * list()\n",
    " * str.split()"
   ]
  },
  {
   "cell_type": "code",
   "execution_count": 1,
   "metadata": {},
   "outputs": [
    {
     "name": "stdout",
     "output_type": "stream",
     "text": [
      "[1, 2, 3]\n",
      "<class 'list'>\n",
      "['a', 'b']\n",
      "<class 'list'>\n",
      "['hello', 'this', 'is', 'list']\n",
      "<class 'list'>\n"
     ]
    }
   ],
   "source": [
    "a = [1,2,3]\n",
    "print(a)\n",
    "print(type(a))\n",
    "b = list(('a', 'b'))\n",
    "print(b)\n",
    "print(type(b))\n",
    "c = 'hello this is list'.split(' ') # split the string into a list using delimiter ' '\n",
    "print(c)\n",
    "print(type(c))\n"
   ]
  },
  {
   "cell_type": "markdown",
   "metadata": {},
   "source": [
    "### **List Indexing, Slicing** \n",
    " * a[i] : return the ith index item in list 'a'. i can be a negative number. e.g. a[-1] : the last element in list 'a'\n",
    " * a[start:end:step] : \n",
    "     \n",
    "     start(optional) : starting index value of slicing. default start value is 0.\n",
    "     \n",
    "     end : last index value until which the slicing takes place slicing.\n",
    "     \n",
    "     step(optional) : index value steps between each index for slicing. default step value is 1."
   ]
  },
  {
   "cell_type": "code",
   "execution_count": 2,
   "metadata": {},
   "outputs": [
    {
     "name": "stdout",
     "output_type": "stream",
     "text": [
      "1\n",
      "[2, 3, 4]\n",
      "[1, 2, 3, 4]\n",
      "[1, 3, 5]\n",
      "[5, 4, 3, 2, 1]\n",
      "[1, 2, 3, 4, 5]\n"
     ]
    }
   ],
   "source": [
    "a = [1,2,3,4,5]\n",
    "print(a[0]) # return the 0th value in the list 'a'\n",
    "print(a[1:4])\n",
    "print(a[:-1])\n",
    "print(a[::2]) #step = 2\n",
    "print(a[::-1])\n",
    "print(a[::])"
   ]
  },
  {
   "cell_type": "markdown",
   "metadata": {},
   "source": [
    "### **2D List Slicing by column without numpy**"
   ]
  },
  {
   "cell_type": "code",
   "execution_count": 3,
   "metadata": {},
   "outputs": [],
   "source": [
    "a = [\n",
    "    [0,5,10,15,20],\n",
    "    [1,6,11,16,21],\n",
    "    [2,7,12,17,22],\n",
    "    [3,8,13,18,23],\n",
    "    [4,9,14,19,24]\n",
    "]"
   ]
  },
  {
   "cell_type": "code",
   "execution_count": 4,
   "metadata": {},
   "outputs": [
    {
     "name": "stdout",
     "output_type": "stream",
     "text": [
      "[(0, 1, 2, 3, 4), (5, 6, 7, 8, 9), (10, 11, 12, 13, 14), (15, 16, 17, 18, 19), (20, 21, 22, 23, 24)]\n"
     ]
    }
   ],
   "source": [
    "cols = list(zip(*a)) # *a syntax unpacks the multidimensional array into single array arguments\n",
    "print(cols)"
   ]
  },
  {
   "cell_type": "code",
   "execution_count": 5,
   "metadata": {},
   "outputs": [
    {
     "name": "stdout",
     "output_type": "stream",
     "text": [
      "[0, 1, 2, 3, 4]\n",
      "[5, 6, 7, 8, 9]\n",
      "[10, 11, 12, 13, 14]\n",
      "[15, 16, 17, 18, 19]\n",
      "[20, 21, 22, 23, 24]\n"
     ]
    }
   ],
   "source": [
    "def get_col(lst, col_idx):\n",
    "    return list(map(lambda x:x[col_idx], lst))\n",
    "\n",
    "col_num = len(a[0])\n",
    "for i in range(col_num):\n",
    "    print(get_col(a, i))"
   ]
  },
  {
   "cell_type": "markdown",
   "metadata": {},
   "source": [
    "### **List Method** \n",
    " * a.count(element) : return the count of specific element in the list.\n",
    " * a.index(element) : return the index of specifci element in the list.\n",
    " * a.append(element) : append the element to the end of the list.\n",
    " * a.sort(reverse=False) : in-place sorting method. default setting of sort function is reverse=False\n",
    " * a.extend(b) : add the specified list elements to the end of the current list. \n",
    " * a.insert(index, element) : insert a given element at a given index in the list.\n",
    " * a.remove(element) : remove a given object from the list.\n",
    " * a.pop(index) : remove and return the given index value. default setting of pop function is to remove and return the last index value.\n",
    " * a.reverse : reverse a list, in-place method.\n",
    " * a.copy() : returns a shallow copy of the list"
   ]
  },
  {
   "cell_type": "code",
   "execution_count": 6,
   "metadata": {},
   "outputs": [],
   "source": [
    "a = [1,1,1,2,2,6,3,5,4]"
   ]
  },
  {
   "cell_type": "code",
   "execution_count": 7,
   "metadata": {},
   "outputs": [
    {
     "name": "stdout",
     "output_type": "stream",
     "text": [
      "3\n",
      "5\n"
     ]
    }
   ],
   "source": [
    "print(a.count(1))\n",
    "print(a.index(6))"
   ]
  },
  {
   "cell_type": "code",
   "execution_count": 8,
   "metadata": {},
   "outputs": [
    {
     "name": "stdout",
     "output_type": "stream",
     "text": [
      "[1, 1, 1, 2, 2, 3, 4, 5, 6]\n"
     ]
    }
   ],
   "source": [
    "a.sort()\n",
    "print(a)"
   ]
  },
  {
   "cell_type": "code",
   "execution_count": 9,
   "metadata": {},
   "outputs": [
    {
     "name": "stdout",
     "output_type": "stream",
     "text": [
      "[1, 2, 3, 4, 5, 6]\n"
     ]
    }
   ],
   "source": [
    "a = [1,2,3]\n",
    "b = [4,5,6]\n",
    "a.extend(b)\n",
    "print(a)"
   ]
  },
  {
   "cell_type": "code",
   "execution_count": 10,
   "metadata": {},
   "outputs": [
    {
     "name": "stdout",
     "output_type": "stream",
     "text": [
      "[5, 1, 2, 3, 4]\n"
     ]
    }
   ],
   "source": [
    "a = [1,2,3,4]\n",
    "a.insert(0, 5)\n",
    "print(a)"
   ]
  },
  {
   "cell_type": "code",
   "execution_count": 11,
   "metadata": {},
   "outputs": [
    {
     "name": "stdout",
     "output_type": "stream",
     "text": [
      "[1, 2, 3, 4]\n"
     ]
    }
   ],
   "source": [
    "a.remove(5)\n",
    "print(a)"
   ]
  },
  {
   "cell_type": "code",
   "execution_count": 12,
   "metadata": {},
   "outputs": [
    {
     "name": "stdout",
     "output_type": "stream",
     "text": [
      "[1, 2, 4]\n"
     ]
    }
   ],
   "source": [
    "a.pop(2)\n",
    "print(a)"
   ]
  },
  {
   "cell_type": "code",
   "execution_count": 13,
   "metadata": {},
   "outputs": [
    {
     "name": "stdout",
     "output_type": "stream",
     "text": [
      "[4, 2, 1]\n"
     ]
    }
   ],
   "source": [
    "a.reverse()\n",
    "print(a)"
   ]
  },
  {
   "cell_type": "code",
   "execution_count": 15,
   "metadata": {},
   "outputs": [
    {
     "name": "stdout",
     "output_type": "stream",
     "text": [
      "1872576120448\n",
      "1872576123968\n",
      "True\n",
      "False\n"
     ]
    }
   ],
   "source": [
    "b = a.copy()\n",
    "print(id(a))\n",
    "print(id(b))\n",
    "print(a==b)\n",
    "print(a is b)"
   ]
  },
  {
   "cell_type": "code",
   "execution_count": 17,
   "metadata": {},
   "outputs": [
    {
     "name": "stdout",
     "output_type": "stream",
     "text": [
      "1872576120448\n",
      "1872576121216\n",
      "True\n",
      "False\n"
     ]
    }
   ],
   "source": [
    "c = a[:] #copy by using slicing\n",
    "print(id(a))\n",
    "print(id(c))\n",
    "print(a==c)\n",
    "print(a is c)"
   ]
  },
  {
   "cell_type": "code",
   "execution_count": 20,
   "metadata": {},
   "outputs": [
    {
     "name": "stdout",
     "output_type": "stream",
     "text": [
      "True\n",
      "[[1, 2, 5], [3, 4]]\n",
      "[[1, 2, 5], [3, 4]]\n"
     ]
    }
   ],
   "source": [
    "# shallow copy can be a problem in mutable objects\n",
    "# source : https://wikidocs.net/16038\n",
    "a = [[1,2], [3,4]]\n",
    "b = a[:]\n",
    "print(id(a[0]) == id(b[0]))\n",
    "a[0].append(5)\n",
    "print(a)\n",
    "print(b)"
   ]
  },
  {
   "cell_type": "code",
   "execution_count": 21,
   "metadata": {},
   "outputs": [
    {
     "name": "stdout",
     "output_type": "stream",
     "text": [
      "[[1, 2, 5], [3, 4]]\n",
      "[[1, 2], [3, 4]]\n"
     ]
    }
   ],
   "source": [
    "import copy\n",
    "a = [[1,2],[3,4]]\n",
    "b = copy.deepcopy(a)\n",
    "a[0].append(5)\n",
    "print(a)\n",
    "print(b)"
   ]
  },
  {
   "cell_type": "code",
   "execution_count": null,
   "metadata": {},
   "outputs": [],
   "source": []
  }
 ],
 "metadata": {
  "kernelspec": {
   "display_name": "Python 3",
   "language": "python",
   "name": "python3"
  },
  "language_info": {
   "codemirror_mode": {
    "name": "ipython",
    "version": 3
   },
   "file_extension": ".py",
   "mimetype": "text/x-python",
   "name": "python",
   "nbconvert_exporter": "python",
   "pygments_lexer": "ipython3",
   "version": "3.8.3"
  }
 },
 "nbformat": 4,
 "nbformat_minor": 4
}
